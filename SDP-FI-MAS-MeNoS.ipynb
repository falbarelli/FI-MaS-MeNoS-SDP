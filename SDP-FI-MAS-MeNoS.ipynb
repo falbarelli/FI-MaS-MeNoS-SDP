{
 "cells": [
  {
   "cell_type": "code",
   "execution_count": 2,
   "id": "dc1e235a",
   "metadata": {},
   "outputs": [],
   "source": [
    "import cvxpy\n",
    "import numpy as np\n",
    "import qutip"
   ]
  },
  {
   "cell_type": "code",
   "execution_count": 3,
   "id": "3dec8f19",
   "metadata": {},
   "outputs": [],
   "source": [
    "dim = 3\n",
    "npar=2\n",
    "\n",
    "obj_func = []\n",
    "POVM_N = []\n",
    "constraints = []"
   ]
  },
  {
   "cell_type": "code",
   "execution_count": null,
   "id": "1b760009",
   "metadata": {},
   "outputs": [],
   "source": [
    "rho=\n",
    "drho=[d1rho,d2rho,...]"
   ]
  },
  {
   "cell_type": "code",
   "execution_count": null,
   "id": "174a69d0",
   "metadata": {},
   "outputs": [],
   "source": [
    "\n",
    "for i in range(npar):\n",
    "    POVM_N.append(cvxpy.Variable((dim, dim), PSD=True))\n",
    "\n",
    "    "
   ]
  }
 ],
 "metadata": {
  "kernelspec": {
   "display_name": "Python [conda env:quantum]",
   "language": "python",
   "name": "conda-env-quantum-py"
  },
  "language_info": {
   "codemirror_mode": {
    "name": "ipython",
    "version": 3
   },
   "file_extension": ".py",
   "mimetype": "text/x-python",
   "name": "python",
   "nbconvert_exporter": "python",
   "pygments_lexer": "ipython3",
   "version": "3.11.7"
  }
 },
 "nbformat": 4,
 "nbformat_minor": 5
}
