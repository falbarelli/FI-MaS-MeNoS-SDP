{
 "cells": [
  {
   "cell_type": "code",
   "execution_count": 7,
   "id": "dc1e235a",
   "metadata": {},
   "outputs": [],
   "source": [
    "import cvxpy\n",
    "import numpy as np\n",
    "import qutip\n",
    "import toqito\n",
    "\n",
    "from matplotlib import pyplot as plt"
   ]
  },
  {
   "cell_type": "code",
   "execution_count": 8,
   "id": "3699e7c3",
   "metadata": {},
   "outputs": [],
   "source": [
    "from toqito.matrix_props import trace_norm"
   ]
  },
  {
   "cell_type": "code",
   "execution_count": 28,
   "id": "39389f4f",
   "metadata": {},
   "outputs": [],
   "source": [
    "def upper_bound(Δ): \n",
    "    \n",
    "    φ = np.pi/4\n",
    "    dim = 2\n",
    "    npar=2\n",
    "    outcomes = 4\n",
    "\n",
    "    Fmat = 1 / ( 2*np.exp(2*Δ)-1 ) * np.identity(npar) \n",
    "\n",
    "    ρ = 0.5*np.array( [[ 1. , np.exp(-Δ - 1j*φ) ], [np.exp(-Δ + 1j*φ) , 1. ]] , dtype = np.complex128)\n",
    "    dΔρ = - 0.5*np.array( [[ 0. , np.exp(-Δ - 1j*φ) ], [np.exp(-Δ + 1j*φ) , 0. ]], dtype = np.complex128 )\n",
    "    dφρ = - 0.5j*np.array( [[ 0. , np.exp(-Δ - 1j*φ) ], [ - np.exp(-Δ + 1j*φ) , 0. ]], dtype = np.complex128 )\n",
    "\n",
    "    lΔsorted = [1/(1-np.sqrt(2)*np.exp(Δ)), -1/(1+np.sqrt(2)*np.exp(Δ)), 1/(1+np.sqrt(2)*np.exp(Δ)) ,  1/(-1+np.sqrt(2)*np.exp(Δ)) ]\n",
    "    Adiags_Δ_sorted = [ (lΔsorted[j]**2)* ρ - 2*lΔsorted[j] * dΔρ for j in range(outcomes) ]\n",
    "    sigΔ = 1 + ( lΔsorted[0]**2 + lΔsorted[-1]**2 + trace_norm(Adiags_Δ_sorted[0] - Adiags_Δ_sorted[-1]) ) /  (2*Fmat[1,1])\n",
    "\n",
    "    lφsorted = [ -1/(1+np.sqrt(2)*np.exp(Δ)) , -1/(1+np.sqrt(2)*np.exp(Δ)),  1/(-1+np.sqrt(2)*np.exp(Δ)) , 1/(-1+np.sqrt(2)*np.exp(Δ)) ]\n",
    "    Adiags_φ_sorted = [ (lφsorted[j]**2)* ρ - 2*lφsorted[j] * dφρ for j in range(outcomes) ]\n",
    "\n",
    "    sigφ = 1 + ( lφsorted[0]**2 + lφsorted[-1]**2 + trace_norm(Adiags_φ_sorted[0] - Adiags_φ_sorted[-1]) ) /  (2*Fmat[1,1])\n",
    "\n",
    "    return sigΔ+sigφ"
   ]
  },
  {
   "cell_type": "code",
   "execution_count": 29,
   "id": "629a46f3",
   "metadata": {},
   "outputs": [
    {
     "data": {
      "text/plain": [
       "13.49556529072985"
      ]
     },
     "execution_count": 29,
     "metadata": {},
     "output_type": "execute_result"
    }
   ],
   "source": [
    "upper_bound(.4)"
   ]
  },
  {
   "cell_type": "code",
   "execution_count": null,
   "metadata": {},
   "outputs": [
    {
     "data": {
      "text/plain": [
       "5.350185506764176"
      ]
     },
     "execution_count": 307,
     "metadata": {},
     "output_type": "execute_result"
    }
   ],
   "source": [
    "lφsorted = [ -1/(1+np.sqrt(2)*np.exp(Δ)) , -1/(1+np.sqrt(2)*np.exp(Δ)),  1/(-1+np.sqrt(2)*np.exp(Δ)) , 1/(-1+np.sqrt(2)*np.exp(Δ)) ]\n",
    "Adiags_φ_sorted = [ (lφsorted[j]**2)* ρ - 2*lφsorted[j] * dφρ for j in range(outcomes) ]\n",
    "\n",
    "sigφ = 1 + ( lφsorted[0]**2 + lφsorted[-1]**2 + trace_norm(Adiags_φ_sorted[0] - Adiags_φ_sorted[-1]) ) /  (2*Fmat[1,1])\n",
    "sigφ"
   ]
  },
  {
   "cell_type": "code",
   "execution_count": null,
   "id": "7797d772",
   "metadata": {},
   "outputs": [
    {
     "data": {
      "text/plain": [
       "9.215693462540706"
      ]
     },
     "execution_count": 292,
     "metadata": {},
     "output_type": "execute_result"
    }
   ],
   "source": [
    "NN = cvxpy.Variable((2, 2), hermitian=True)\n",
    "\n",
    "objective = cvxpy.Maximize( cvxpy.real( cvxpy.trace( Adiags_Δ_sorted[0]@ NN + Adiags_Δ_sorted[-1]@( np.identity(2) - NN ) ) ) )\n",
    "\n",
    "constraints = [ NN << np.identity(2) , NN >> 0 ]\n",
    "\n",
    "problem_sing = cvxpy.Problem(objective, constraints)\n",
    "\n",
    "sol_sing = problem_sing.solve(solver='MOSEK')\n",
    "\n",
    "1 + sol_sing/Fmat[1,1]"
   ]
  },
  {
   "cell_type": "code",
   "execution_count": null,
   "id": "77d505e0",
   "metadata": {},
   "outputs": [
    {
     "data": {
      "text/plain": [
       "9.215693452286262"
      ]
     },
     "execution_count": 293,
     "metadata": {},
     "output_type": "execute_result"
    }
   ],
   "source": [
    "obj_sing = []\n",
    "POVM_N = []\n",
    "constraints = []\n",
    "\n",
    "for i in range(outcomes):\n",
    "    \n",
    "    POVM_N.append(cvxpy.Variable((dim, dim), hermitian=True))\n",
    "    constraints.append( POVM_N[i] >> 0 )\n",
    "    obj_sing.append( cvxpy.real(cvxpy.trace( (Adiags_Δ_sorted[i]) @ POVM_N[i] ) ) )\n",
    "\n",
    "\n",
    "constraints.append(sum(POVM_N) == np.identity(dim))\n",
    "\n",
    "objective = cvxpy.Maximize( sum(obj_sing))\n",
    "\n",
    "problem_sing = cvxpy.Problem(objective, constraints)\n",
    "\n",
    "sol_sing = problem_sing.solve(solver='MOSEK')\n",
    "\n",
    "1 + sol_sing/Fmat[1,1]"
   ]
  },
  {
   "cell_type": "code",
   "execution_count": null,
   "id": "fb74cee9",
   "metadata": {},
   "outputs": [
    {
     "data": {
      "text/plain": [
       "7.90766496657096"
      ]
     },
     "execution_count": 276,
     "metadata": {},
     "output_type": "execute_result"
    }
   ],
   "source": [
    "sol_sing"
   ]
  },
  {
   "cell_type": "code",
   "execution_count": 13,
   "id": "0c3a4686",
   "metadata": {},
   "outputs": [],
   "source": [
    "# Δ = .000001\n",
    "\n",
    "\n",
    "def FI_MaS_MeNoS(Δ):\n",
    "    φ = np.pi/4\n",
    "    dim = 2\n",
    "    npar=2\n",
    "    outcomes = 4\n",
    "    \n",
    "    ρ = 0.5*np.array( [[ 1. , np.exp(-Δ - 1j*φ) ], [np.exp(-Δ + 1j*φ) , 1. ]] , dtype = np.complex128)\n",
    "    dΔρ = - 0.5*np.array( [[ 0. , np.exp(-Δ - 1j*φ) ], [np.exp(-Δ + 1j*φ) , 0. ]], dtype = np.complex128 )\n",
    "    dφρ = - 0.5j*np.array( [[ 0. , np.exp(-Δ - 1j*φ) ], [ - np.exp(-Δ + 1j*φ) , 0. ]], dtype = np.complex128 )\n",
    "\n",
    "    # For φ = 0\n",
    "    # lΔ = np.transpose([[ -1//(1+np.exp(Δ)) , 1//(-1+np.exp(Δ))  , 0. , 0. ]])\n",
    "    # lφ = np.transpose([[ 0, 0, - np.cosh(Δ) + np.sinh(Δ) , np.exp(-Δ) ]])\n",
    "\n",
    "    # For φ = π/4\n",
    "    lΔ = np.transpose([[ -1/(1+np.sqrt(2)*np.exp(Δ)) , 1/(-1+np.sqrt(2)*np.exp(Δ)) , 1/(1-np.sqrt(2)*np.exp(Δ)) , 1/(1+np.sqrt(2)*np.exp(Δ)) ]])\n",
    "    lφ = np.transpose([[ -1/(1+np.sqrt(2)*np.exp(Δ)) , 1/(-1+np.sqrt(2)*np.exp(Δ)) , 1/(-1+np.sqrt(2)*np.exp(Δ)) , -1/(1+np.sqrt(2)*np.exp(Δ)) ]])\n",
    "    Lmat = np.block([ lφ , lΔ ])\n",
    "\n",
    "    # Fmat = np.diag( [0.5*np.exp(-2*Δ), 0.25*( 1/np.tanh(Δ) - 1 )] ) # φ = 0\n",
    "\n",
    "    Fmat = 1 / ( 2*np.exp(2*Δ)-1 ) * np.identity(npar) \n",
    "    Fmat_inv = np.linalg.inv(Fmat)\n",
    "\n",
    "    Amats = [ np.kron(np.outer(Lmat[j],Lmat[j]),ρ) - np.kron( np.array([Lmat[j]]), np.block([[dφρ],[dΔρ]]) ) - np.kron( np.array([Lmat[j]]).T , np.block([dφρ,dΔρ]) ) for j in range(outcomes) ]\n",
    "\n",
    "    obj_func = []\n",
    "    POVM_N = []\n",
    "    constraints = []\n",
    "\n",
    "    for i in range(outcomes):\n",
    "        \n",
    "        POVM_N.append(cvxpy.Variable((dim, dim), hermitian=True))\n",
    "        \n",
    "        obj_func.append( cvxpy.real(cvxpy.trace( Amats[i] @ cvxpy.kron(Fmat_inv , POVM_N[i]) )) )\n",
    "        constraints.append(  POVM_N[i] >> 0 )\n",
    "        # obj_func_diag.append( cvxpy.real(cvxpy.trace( (Adiags_φ[i]/Fmat[0,0] + Adiags_Δ[i]/Fmat[1,1] ) @ POVM_N[i] ) ) )\n",
    "\n",
    "\n",
    "    constraints.append(sum(POVM_N) == np.identity(dim))\n",
    "    objective_full = cvxpy.Maximize(npar + sum(obj_func))\n",
    "    problem_full = cvxpy.Problem(objective_full, constraints)\n",
    "    return problem_full.solve(solver='MOSEK')"
   ]
  },
  {
   "cell_type": "code",
   "execution_count": 34,
   "id": "a5382553",
   "metadata": {},
   "outputs": [
    {
     "data": {
      "text/plain": [
       "<matplotlib.legend.Legend at 0x2a595f290>"
      ]
     },
     "execution_count": 34,
     "metadata": {},
     "output_type": "execute_result"
    },
    {
     "data": {
      "image/png": "[encoded data removed]",
      "text/plain": [
       "<Figure size 640x480 with 1 Axes>"
      ]
     },
     "metadata": {},
     "output_type": "display_data"
    }
   ],
   "source": [
    "Δs = np.linspace(0.001,0.6,50)\n",
    "upperΔ = [upper_bound(dd) for dd in Δs ]\n",
    "resultΔ = [FI_MaS_MeNoS(dd) for dd in Δs ]\n",
    "plt.plot(Δs,resultΔ,label='SDP exact')\n",
    "plt.plot(Δs,upperΔ,label='upper bound (sum single-par)')\n",
    "plt.ylabel('FI susceptibility')\n",
    "plt.xlabel('Δ')\n",
    "plt.legend()"
   ]
  },
  {
   "cell_type": "code",
   "execution_count": null,
   "id": "3dec8f19",
   "metadata": {},
   "outputs": [],
   "source": [
    "dim = 2\n",
    "npar=2\n",
    "outcomes = 4\n",
    "\n",
    "Amats = [ np.kron(np.outer(Lmat[j],Lmat[j]),ρ) - np.kron( np.array([Lmat[j]]), np.block([[dφρ],[dΔρ]]) ) - np.kron( np.array([Lmat[j]]).T , np.block([dφρ,dΔρ]) ) for j in range(outcomes) ]\n",
    "\n",
    "Adiags_φ = [ (lφ[j]**2)* ρ - 2*lφ[j] * dφρ for j in range(outcomes) ]\n",
    "Adiags_Δ = [ (lΔ[j]**2)* ρ - 2*lΔ[j] * dΔρ for j in range(outcomes) ]\n",
    "\n",
    "obj_func = []\n",
    "obj_func_alt = []\n",
    "obj_func_diag = []\n",
    "POVM_N = []\n",
    "constraints = []\n",
    "\n",
    "for i in range(outcomes):\n",
    "    \n",
    "    POVM_N.append(cvxpy.Variable((dim, dim), hermitian=True))\n",
    "    \n",
    "    obj_func.append( cvxpy.real(cvxpy.trace( Amats[i] @ cvxpy.kron(Fmat_inv , POVM_N[i]) )) )\n",
    "    constraints.append(  POVM_N[i] >> 0 )\n",
    "    # obj_func_alt.append( cvxpy.partial_trace( Amats[i] @ cvxpy.kron( np.identity(npar) , POVM_N[i]) , (npar,dim) , axis = 1 ) ) \n",
    "\n",
    "    obj_func_diag.append( cvxpy.real(cvxpy.trace( (Adiags_φ[i]/Fmat[0,0] + Adiags_Δ[i]/Fmat[1,1] ) @ POVM_N[i] ) ) )\n",
    "\n",
    "\n",
    "constraints.append(sum(POVM_N) == np.identity(dim))\n",
    "\n",
    "objective_full = cvxpy.Maximize(npar + sum(obj_func))\n",
    "objective_diag = cvxpy.Maximize(npar + sum(obj_func_diag))\n",
    "# objective = cvxpy.Maximize( npar + cvxpy.real(cvxpy.trace(Fmat_inv@sum(obj_func_alt))) )\n",
    "\n",
    "problem_full = cvxpy.Problem(objective_full, constraints)\n",
    "\n",
    "problem_diag = cvxpy.Problem(objective_diag, constraints)\n",
    "\n",
    "sol_full = problem_full.solve()\n",
    "\n",
    "sol_diag = problem_diag.solve()"
   ]
  },
  {
   "cell_type": "code",
   "execution_count": null,
   "id": "d1fee382",
   "metadata": {},
   "outputs": [
    {
     "data": {
      "text/plain": [
       "18.485246351793727"
      ]
     },
     "execution_count": 327,
     "metadata": {},
     "output_type": "execute_result"
    }
   ],
   "source": [
    "sol_full"
   ]
  },
  {
   "cell_type": "code",
   "execution_count": null,
   "id": "96179c04",
   "metadata": {},
   "outputs": [
    {
     "data": {
      "text/plain": [
       "18.48524635178695"
      ]
     },
     "execution_count": 328,
     "metadata": {},
     "output_type": "execute_result"
    }
   ],
   "source": [
    "sol_diag"
   ]
  },
  {
   "cell_type": "code",
   "execution_count": null,
   "id": "340266f1",
   "metadata": {},
   "outputs": [
    {
     "data": {
      "text/plain": [
       "Solution(optimal, {977: array([[ 6.17073566e-11, -1.01108323e-10],\n",
       "       [-1.01108323e-10,  1.20283256e-10]]), 989: array([[2.53963832e-11, 6.83524309e-11],\n",
       "       [6.83524309e-11, 1.36734340e-10]]), 1001: array([[1.00000000e+00, 7.90538677e-11],\n",
       "       [7.90538677e-11, 1.00000000e+00]]), 1013: array([[ 9.32667667e-13, -2.76821932e-11],\n",
       "       [-2.76821932e-11,  2.87465747e-11]])}, {1030: array([[5.53332063, 0.        ],\n",
       "       [4.01937997, 3.81072921]])}, {'solve_time': 0.00043487548828125, 'num_iters': 6, 'solver_specific_stats': {'mio_intpnt_iter': 0, 'mio_simplex_iter': 0}})"
      ]
     },
     "execution_count": 163,
     "metadata": {},
     "output_type": "execute_result"
    }
   ],
   "source": [
    "problem.solution"
   ]
  },
  {
   "cell_type": "code",
   "execution_count": null,
   "id": "43ad6d8b",
   "metadata": {},
   "outputs": [
    {
     "data": {
      "text/plain": [
       "6.999999999891299"
      ]
     },
     "execution_count": 171,
     "metadata": {},
     "output_type": "execute_result"
    }
   ],
   "source": [
    "sol_default"
   ]
  },
  {
   "cell_type": "code",
   "execution_count": null,
   "id": "9a41b3bc",
   "metadata": {},
   "outputs": [
    {
     "data": {
      "text/plain": [
       "11.344049837016074"
      ]
     },
     "execution_count": 164,
     "metadata": {},
     "output_type": "execute_result"
    }
   ],
   "source": [
    "sol_default"
   ]
  },
  {
   "cell_type": "code",
   "execution_count": null,
   "id": "c2687936",
   "metadata": {},
   "outputs": [
    {
     "data": {
      "text/plain": [
       "17.421139984073175"
      ]
     },
     "execution_count": 146,
     "metadata": {},
     "output_type": "execute_result"
    }
   ],
   "source": [
    "sol_default"
   ]
  },
  {
   "cell_type": "code",
   "execution_count": null,
   "id": "1b760009",
   "metadata": {},
   "outputs": [],
   "source": [
    "rho=\n",
    "drho=[d1rho,d2rho,...]"
   ]
  },
  {
   "cell_type": "code",
   "execution_count": null,
   "id": "174a69d0",
   "metadata": {},
   "outputs": [],
   "source": [
    "\n",
    "for i in range(npar):\n",
    "    \n",
    "\n",
    "problem.    \n",
    "    "
   ]
  }
 ],
 "metadata": {
  "kernelspec": {
   "display_name": "quantum",
   "language": "python",
   "name": "python3"
  },
  "language_info": {
   "codemirror_mode": {
    "name": "ipython",
    "version": 3
   },
   "file_extension": ".py",
   "mimetype": "text/x-python",
   "name": "python",
   "nbconvert_exporter": "python",
   "pygments_lexer": "ipython3",
   "version": "3.11.7"
  }
 },
 "nbformat": 4,
 "nbformat_minor": 5
}
