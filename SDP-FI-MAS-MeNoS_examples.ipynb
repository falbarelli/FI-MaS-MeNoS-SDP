{
 "cells": [
  {
   "cell_type": "code",
   "execution_count": 44,
   "id": "dc1e235a",
   "metadata": {},
   "outputs": [],
   "source": [
    "import cvxpy\n",
    "import numpy as np\n",
    "import qutip\n",
    "import matplotlib as mpl\n",
    "from matplotlib import pyplot as plt\n",
    "%matplotlib inline\n",
    "\n",
    "plt.rc('text', usetex=True)\n",
    "# mpl.style.use('seaborn-v0_8-paper')\n",
    "\n",
    "mpl.rcParams['text.usetex'] = True\n",
    "plt.rcParams['lines.linewidth'] = 1.3\n",
    "plt.rcParams['figure.constrained_layout.use'] = True\n",
    "mpl.rcParams['pgf.preamble'] = r'\\usepackage{amsmath} \\usepackage{amssymb}'"
   ]
  },
  {
   "cell_type": "markdown",
   "id": "a4aaa849-9659-4d4e-a754-e77496a96a21",
   "metadata": {},
   "source": [
    "# General definitions"
   ]
  },
  {
   "cell_type": "code",
   "execution_count": 11,
   "id": "cdc29a47",
   "metadata": {},
   "outputs": [],
   "source": [
    "def MaSMeNoS_SDP_diag(lvecs,Fdiag,ρ, dρ):\n",
    "    # This function implements the diagonal formulation in Eq. (28) of https://arxiv.org/pdf/2312.02035v1.pdf (first line)\n",
    "    # lvecs is an array of numpy vectors [ l1  , l2 , ... , lnpar ] each vector has length `outcomes`\n",
    "    # Fdiag is a npar numpy array containing the elements of the diagonal FI matrix (i.e. the eigenvalues of the original FI matrix)\n",
    "    # ρ is a dim × dim numpy matrix\n",
    "    # dρ is an array of dim × dim numpy matrices [ ∂1 ρ  , ∂2 ρ , ... , ∂npar ρ ] (this is already assumed in the parametrization in which the FI matrix is diagonal)\n",
    "\n",
    "    dim = np.size(ρ,axis=0)\n",
    "    npar = np.size(lvecs,axis=0)\n",
    "    outcomes = np.size(lvecs,axis=1)\n",
    "\n",
    "    # This converts the array of numpy arrays (indexed as lvecs[i][j]) to a 2D numpy array (indexed as lvecs[i,j])\n",
    "    # TODO: decide if it's better to take this form as input already\n",
    "    larray=np.array(lvecs) \n",
    "    \n",
    "    obj_func = []\n",
    "    POVM_N = []\n",
    "    constraints = []\n",
    "\n",
    "    for i in range(outcomes):\n",
    "        # Create a cvxpy optimization variable that is hermitian (important, otherwise assumed to be a real matrix)\n",
    "        POVM_N.append(cvxpy.Variable((dim, dim), hermitian=True))\n",
    "        \n",
    "        # Then we put the positivity constraints of POVMs\n",
    "        constraints.append(  POVM_N[i] >> 0 )\n",
    "        \n",
    "        # The objective function element for each outcome\n",
    "        lvec = larray[:,i]\n",
    "        obj_func.append( cvxpy.real(cvxpy.trace( sum([ ((lvec[p]**2)*ρ - 2*lvec[p]*dρ[p])/Fdiag[p] for p in range(npar) ]) @ POVM_N[i] ) ) )\n",
    "        # This form is the first line in Eq. (28) of https://arxiv.org/pdf/2312.02035v1.pdf not the second.\n",
    "\n",
    "    # Normalization constraint of the POVM\n",
    "    constraints.append(sum(POVM_N) == np.identity(dim))\n",
    "    # constraints.append(sum(POVM_N) << np.identity(dim))\n",
    "\n",
    "    objective = cvxpy.Maximize(npar + sum(obj_func))\n",
    "    problem = cvxpy.Problem(objective, constraints)\n",
    "    \n",
    "    # return ( problem.solve(solver='MOSEK'), POVM_N)\n",
    "    return problem.solve(solver='MOSEK')\n",
    "\n",
    "def MeNoS_single_par(lvec, F, ρ, dρ):\n",
    "    # Computes the single-parameter FI MeNoS, using the analytical formula from https://doi.org/10.1103/PhysRevLett.130.160802\n",
    "    # lvec is a numpy array of length `outcomes`\n",
    "    # F (the classical Fisher information) is a positive number\n",
    "    # ρ (density operator) is a dim × dim numpy matrix\n",
    "    # dρ (derivative of the density operator) is a dim × dim numpy matrix\n",
    "\n",
    "    dim = np.size(ρ,axis=0)\n",
    "\n",
    "    outcomes = len(lvec)\n",
    "    \n",
    "    lvec_sorted = np.sort(lvec)\n",
    "    \n",
    "    Amin = (lvec_sorted[0]**2)* ρ - 2*lvec_sorted[0] * dρ \n",
    "    Amax = (lvec_sorted[-1]**2)* ρ - 2*lvec_sorted[-1] * dρ \n",
    "\n",
    "    # nuclear norm = trace norm \n",
    "    return 1 + ( lvec_sorted[0]**2 + lvec_sorted[-1]**2 + np.linalg.norm(Amin - Amax,'nuc') ) /  (2*F)\n",
    "\n",
    "def MaSMeNoS_diag_upper(lvecs,Fdiag,ρ, dρ):\n",
    "    # This function implements the upper bound in Eq. (30) of https://arxiv.org/pdf/2312.02035v1.pdf \n",
    "    # This is just the sum of the single-par FI MeNoS for all parameters\n",
    "    # lvecs is an array of numpy vectors [ l1  , l2 , ... , lnpar ] each vector has length `outcomes`\n",
    "    # Fdiag is a npar numpy array containing the elements of the diagonal FI matrix (i.e. the eigenvalues of the original FI matrix)\n",
    "    # ρ is a dim × dim numpy matrix\n",
    "    # dρ is an array of dim × dim numpy matrices [ ∂1 ρ  , ∂2 ρ , ... , ∂npar ρ ] (this is already assumed in the parametrization in which the FI matrix is diagonal)\n",
    "\n",
    "    dim = np.size(ρ,axis=0)\n",
    "    npar = np.size(lvecs,axis=0)\n",
    "    outcomes = np.size(lvecs,axis=1)\n",
    "    \n",
    "    upperbound = 0.\n",
    "    for p in range(npar):\n",
    "        upperbound = upperbound + MeNoS_single_par(lvecs[p], Fdiag[p], ρ, dρ[p])\n",
    "\n",
    "    return upperbound\n",
    "\n",
    "def MaSMeNoS_diag_lower(lvecs,Fdiag,ρ, dρ):\n",
    "    # This function implements the lower bound in Eq. (29) of https://arxiv.org/pdf/2312.02035v1.pdf \n",
    "    # lvecs is an array of numpy vectors [ l1  , l2 , ... , lnpar ] each vector has length `outcomes`\n",
    "    # Fdiag is a npar numpy array containing the elements of the diagonal FI matrix (i.e. the eigenvalues of the original FI matrix)\n",
    "    # ρ is a dim × dim numpy matrix\n",
    "    # dρ is an array of dim × dim numpy matrices [ ∂1 ρ  , ∂2 ρ , ... , ∂npar ρ ] (this is already assumed in the parametrization in which the FI matrix is diagonal)\n",
    "\n",
    "    dim = np.size(ρ,axis=0)\n",
    "    npar = np.size(lvecs,axis=0)\n",
    "    outcomes = np.size(lvecs,axis=1)\n",
    "\n",
    "    # This is superseeded by the next block of code, which does the same thing avoiding a matrix multiplication that was raising errors with single-parameter problems\n",
    "    # if npar > 1:\n",
    "    #     LL = np.diag(1/np.sqrt(Fdiag)) @ np.array(lvecs) # Each row of this matrix is now the vector L_α defined in https://arxiv.org/abs/2312.02035v1\n",
    "    # else:\n",
    "    #     LL = (1/np.sqrt(Fdiag)) * lvecs \n",
    "\n",
    "    LL = np.zeros_like(lvecs)\n",
    "    for pp in range(npar):\n",
    "        LL[pp,:]=lvecs[pp]/np.sqrt(Fdiag[pp])\n",
    "\n",
    "    # This creates a 2D array of operators for all outcomes and parameter values\n",
    "    # Beware this only works for the diagonal parametrization, it's not the full object in Eq. (14) of https://arxiv.org/pdf/2312.02035v1.pdf\n",
    "    AopsDiag = [ [ (lvecs[p][α]**2)*ρ - 2*lvecs[p][α]*dρ[p] for α in range(outcomes)] for p in range(npar)] \n",
    "\n",
    "    # This creates an array that contains the value of the lower bound for all possible pairs of measurement outcomes\n",
    "    Zs = []\n",
    "    for α in range(outcomes):\n",
    "        for β in range(α+1,outcomes):\n",
    "            \n",
    "            Op_tot= np.zeros_like(AopsDiag[0][0])\n",
    "            for p in range(npar):\n",
    "                Op_tot += (AopsDiag[p][α] - AopsDiag[p][β])/ (2*Fdiag[p])\n",
    "                \n",
    "            Zs.append( npar + 0.5*(np.linalg.norm(LL[:,α])**2 + np.linalg.norm(LL[:,β])**2) + np.linalg.norm(Op_tot,'nuc'))\n",
    "\n",
    "    return np.max(Zs)\n",
    "\n",
    "def FImat(pvec,lvec):\n",
    "    # This computes the FI matrix given a vector of probabilities and an array of scores (logarithmic derivatives of the probability vector).\n",
    "    # No consistency checks are performed.\n",
    "    \n",
    "    npar=len(lvec)\n",
    "    mat=np.zeros((npar,npar))\n",
    "    for i in range(npar):\n",
    "        for j in range(npar):\n",
    "            mat[i,j]=np.sum(lvec[i]*lvec[j]*pvec)\n",
    "    return np.matrix(mat)\n",
    "\n",
    "def QFI_SLD(rho,drhovec):\n",
    "    # This function computes the QFI matrix given a density operator and an array of its partial derivatives.\n",
    "    # For compactess, we apply the formula based on vectorization from https://doi.org/10.1103/PhysRevA.97.042322 \n",
    "    # No consistency checks are performed.\n",
    "    \n",
    "    npar=len(drhovec)\n",
    "\n",
    "    mat=np.zeros((npar,npar))\n",
    "    \n",
    "    Imat = np.identity(np.shape(rho)[1])\n",
    "    \n",
    "    Minv = np.linalg.pinv(np.kron(np.conjugate(rho),Imat) + np.kron(Imat,rho),hermitian=True)\n",
    "            \n",
    "    for i in range(npar):\n",
    "        for j in range(npar):\n",
    "            mat[i,j] = np.real((2*np.conjugate(np.matrix.flatten(drhovec[i],order='F')) @ Minv @ np.matrix.flatten(drhovec[j],order='F').T).item())\n",
    "    return np.matrix(mat)\n",
    "\n",
    "def prob_scores_from_meas(ρ,dρlist,M):\n",
    "    # This function computes the probabilities and the scores for a POVM M on a given quantum statistical model, defined by a density operator ρ and a collection of its partical derivative dρlist\n",
    "    # No consistency checks are performed\n",
    "    \n",
    "    outcomes = len(M)\n",
    "    npar = len(dρlist)\n",
    "    dim = dim = np.size(ρ,axis=0)\n",
    "\n",
    "    p = np.array([ np.real(np.trace(m@ρ)) for m in M ])\n",
    "    dp = []\n",
    "    l = [ ]\n",
    "    for k, dρ in enumerate(dρlist):\n",
    "        dp.append( np.array([ np.real(np.trace(m@dρ)) for m in M ]) )\n",
    "        l.append( dp[k]/p ) # need to add exception for p[i] = 0\n",
    "    return (p,dp,l)"
   ]
  },
  {
   "cell_type": "markdown",
   "id": "f73d827d-a793-427e-956f-0f6476589605",
   "metadata": {},
   "source": [
    "# Phase & dephasing estimation"
   ]
  },
  {
   "cell_type": "markdown",
   "id": "7f278dc5-100c-4feb-81d6-c3b434853e2b",
   "metadata": {},
   "source": [
    "### Definitions, separable and entangled measurements"
   ]
  },
  {
   "cell_type": "markdown",
   "id": "b8223d10-36d4-4c4e-b3a5-04fbbe9ae94d",
   "metadata": {},
   "source": [
    "Definition of the quantum statistical model"
   ]
  },
  {
   "cell_type": "code",
   "execution_count": 12,
   "id": "0225f378",
   "metadata": {},
   "outputs": [],
   "source": [
    "def phase_dephasing_qubit_model(φ,Δ):\n",
    "        \n",
    "    rho = 0.5*np.matrix( [[ 1. , np.exp(-Δ - 1j*φ) ], [np.exp(-Δ + 1j*φ) , 1. ]])\n",
    "    dφrho = - 0.5j*np.matrix( [[ 0. , np.exp(-Δ - 1j*φ) ], [ - np.exp(-Δ + 1j*φ) , 0. ]],)\n",
    "    dΔrho = - 0.5*np.matrix( [[ 0. , np.exp(-Δ - 1j*φ) ], [np.exp(-Δ + 1j*φ) , 0. ]] )\n",
    "    \n",
    "    return ( rho , [ dφrho , dΔrho ] )"
   ]
  },
  {
   "cell_type": "markdown",
   "id": "be76ebde-df8a-4e64-a6c3-14426f07d7a6",
   "metadata": {},
   "source": [
    "The following parameter value of the phase will remail fixed"
   ]
  },
  {
   "cell_type": "code",
   "execution_count": 13,
   "id": "1393e022-a443-4ae8-94b7-ca954d55419c",
   "metadata": {},
   "outputs": [],
   "source": [
    "φval = np.pi/4 # for this value the FI is already diagonal "
   ]
  },
  {
   "cell_type": "markdown",
   "id": "b7b2ae7a-046e-4be9-b3ea-7d06b1075980",
   "metadata": {},
   "source": [
    "Single-copy separable POVM and entangled 2-copy POVM:"
   ]
  },
  {
   "cell_type": "code",
   "execution_count": 14,
   "id": "56ee1d29-3dd7-400c-bad0-962cf423adee",
   "metadata": {},
   "outputs": [],
   "source": [
    "M1= 0.25*np.matrix([ [1.\t,1.], [1.,1.] ])\n",
    "M2= 0.25* np.matrix([ [1.\t, -1.], [-1.,1.] ])\n",
    "M3= 0.25* np.matrix([ [1.\t, 1j], [-1j,1.] ])\n",
    "M4= 0.25* np.matrix( [[1.\t, -1j], [1j,1.] ])\n",
    "Mvec = [ M1, M2, M3, M4] \n",
    "\n",
    "Π1 = 0.5 * np.matrix([\n",
    "    [1, 0, 0, 1],\n",
    "    [0, 0, 0, 0],\n",
    "    [0, 0, 0, 0],\n",
    "    [1, 0, 0, 1]])\n",
    "Π2 = 0.5 * np.matrix(\n",
    "    [[1, 0, 0, -1],\n",
    "    [0, 0, 0, 0],\n",
    "    [0, 0, 0, 0],\n",
    "    [-1, 0, 0, 1]])\n",
    "Π3 = 0.5 * np.matrix(\n",
    "    [[0, 0, 0, 0],\n",
    "    [0, 1, 1, 0],\n",
    "    [0, 1, 1, 0],\n",
    "    [0, 0, 0, 0]])\n",
    "Π4 = 0.5 * np.matrix(\n",
    "    [[0, 0, 0, 0],\n",
    "    [0, 1, -1, 0],\n",
    "    [0, -1, 1, 0],\n",
    "    [0, 0, 0, 0]])\n",
    "M_2copies_vec = [ Π1, Π2, Π3, Π4]"
   ]
  },
  {
   "cell_type": "markdown",
   "id": "d5db0e0c-2219-4340-a2d1-648376ca5870",
   "metadata": {},
   "source": [
    "Check that these are correctlynormalized:"
   ]
  },
  {
   "cell_type": "code",
   "execution_count": 15,
   "id": "bde67cb7-e766-4664-ac66-f9c63aae23a6",
   "metadata": {},
   "outputs": [
    {
     "data": {
      "text/plain": [
       "matrix([[1.+0.j, 0.+0.j],\n",
       "        [0.+0.j, 1.+0.j]])"
      ]
     },
     "execution_count": 15,
     "metadata": {},
     "output_type": "execute_result"
    }
   ],
   "source": [
    "sum(Mvec)"
   ]
  },
  {
   "cell_type": "code",
   "execution_count": 16,
   "id": "6ee7151b-9bc4-451a-9229-253e4bd300c3",
   "metadata": {},
   "outputs": [
    {
     "data": {
      "text/plain": [
       "matrix([[1., 0., 0., 0.],\n",
       "        [0., 1., 0., 0.],\n",
       "        [0., 0., 1., 0.],\n",
       "        [0., 0., 0., 1.]])"
      ]
     },
     "execution_count": 16,
     "metadata": {},
     "output_type": "execute_result"
    }
   ],
   "source": [
    "sum(M_2copies_vec)"
   ]
  },
  {
   "cell_type": "markdown",
   "id": "f080a0ff-a97d-4946-9434-5e2e6e23ece3",
   "metadata": {},
   "source": [
    "## Results"
   ]
  },
  {
   "cell_type": "markdown",
   "id": "a83810eb-d0b5-472f-bed7-7f25f4adc7ee",
   "metadata": {},
   "source": [
    "### Figure 1: plot of susceptibility and optimality as a function of $\\Delta$"
   ]
  },
  {
   "cell_type": "code",
   "execution_count": 18,
   "id": "f5aee7ae",
   "metadata": {},
   "outputs": [],
   "source": [
    "Δspan = np.linspace(0.002,0.701,500)\n",
    "\n",
    "upperΔ = []\n",
    "lowerΔ = []\n",
    "masmenosΔ = []\n",
    "rΔ = []\n",
    "\n",
    "upperΔ_2copies = []\n",
    "lowerΔ_2copies = []\n",
    "masmenosΔ_2copies = []\n",
    "rΔ_2copies = []\n",
    "\n",
    "for delta in Δspan:\n",
    "    \n",
    "    [rhotemp, drhotemp ] = phase_dephasing_qubit_model(φval,delta)\n",
    "    (pp , dpp , ll ) = prob_scores_from_meas(rhotemp,drhotemp,Mvec)\n",
    "    QFItemp = QFI_SLD(rhotemp,drhotemp)\n",
    "    \n",
    "    ρval_2copies = np.kron(rhotemp,rhotemp)\n",
    "    dρval_2copies = [ np.kron(drho,rhotemp) + np.kron(rhotemp,drho)  for drho in drhotemp]\n",
    "    (pp_2copies , dpp_2copies , ll_2copies ) = prob_scores_from_meas(ρval_2copies,dρval_2copies,M_2copies_vec)\n",
    "    \n",
    "    Fmat = FImat(pp,ll)\n",
    "    Fdiag = np.diag(Fmat) # I know it's already diagonal\n",
    "\n",
    "    rΔ.append(  np.trace( np.linalg.inv(Fmat)) / np.trace( np.linalg.inv(QFItemp)))\n",
    "\n",
    "    Fmat_2copies = FImat(pp_2copies,ll_2copies)\n",
    "    Fdiag_2copies = np.diag(Fmat_2copies) # I know it's already diagonal\n",
    "\n",
    "    rΔ_2copies.append( 2*np.trace( np.linalg.inv(Fmat_2copies)) / np.trace( np.linalg.inv(QFItemp)))\n",
    "    \n",
    "    lowerΔ.append( MaSMeNoS_diag_lower(ll,Fdiag,rhotemp,drhotemp))\n",
    "    masmenosΔ.append( MaSMeNoS_SDP_diag(ll,Fdiag,rhotemp,drhotemp))\n",
    "    upperΔ.append( MaSMeNoS_diag_upper(ll,Fdiag,rhotemp,drhotemp))\n",
    "\n",
    "    lowerΔ_2copies.append( MaSMeNoS_diag_lower(ll_2copies,Fdiag_2copies,ρval_2copies,dρval_2copies))\n",
    "    masmenosΔ_2copies.append( MaSMeNoS_SDP_diag(ll_2copies,Fdiag_2copies,ρval_2copies,dρval_2copies))\n",
    "    upperΔ_2copies.append( MaSMeNoS_diag_upper(ll_2copies,Fdiag_2copies,ρval_2copies,dρval_2copies))\n",
    "\n",
    "# Since we have been lazy and used append, now it's better to transform these to numpy arrays \n",
    "lowerΔ=np.array(lowerΔ)\n",
    "masmenosΔ=np.array(masmenosΔ)\n",
    "upperΔ=np.array(upperΔ)\n",
    "rΔ = np.array(rΔ)\n",
    "lowerΔ_2copies=np.array(lowerΔ_2copies)\n",
    "masmenosΔ_2copies=np.array(masmenosΔ_2copies)\n",
    "upperΔ_2copies=np.array(upperΔ_2copies)\n",
    "rΔ_2copies=np.array(rΔ_2copies)"
   ]
  },
  {
   "cell_type": "markdown",
   "id": "7c651f72-f761-4129-8112-dbd7de166574",
   "metadata": {},
   "source": [
    "Figure 1 in the paper"
   ]
  },
  {
   "cell_type": "code",
   "execution_count": 46,
   "id": "66227c26-01e5-4f94-a9fe-aa24e8c52618",
   "metadata": {},
   "outputs": [
    {
     "data": {
      "image/png": "[encoded data removed]",
      "text/plain": [
       "<Figure size 337.5x337.5 with 2 Axes>"
      ]
     },
     "metadata": {},
     "output_type": "display_data"
    }
   ],
   "source": [
    "Δspan = np.array(Δspan)\n",
    "\n",
    "cmap_reds = mpl.colormaps['Reds']\n",
    "cmap_blues = mpl.colormaps['Blues']\n",
    "redplot=cmap_reds(.6)\n",
    "blueplot=cmap_blues(.7)\n",
    "\n",
    "fig = plt.figure(figsize=(3.375,3.375),layout='constrained')\n",
    "\n",
    "axs = fig.subplots(2,1,sharex=True,height_ratios=[2,1])\n",
    "\n",
    "axs[0].plot(Δspan,upperΔ,label='$\\Sigma^U[M^{\\mathsf{(sep)}}]$',linestyle='dotted',color=cmap_reds(.8))\n",
    "axs[0].plot(Δspan,masmenosΔ,label='$\\Sigma[M^{\\mathsf{(sep)}}]$',color=cmap_reds(.6))\n",
    "axs[0].plot(Δspan,lowerΔ,label='$\\Sigma_L[M^{\\mathsf{(sep)}}]$',linestyle='dashed',color=cmap_reds(.4))\n",
    "\n",
    "\n",
    "axs[0].plot(Δspan,upperΔ_2copies,label='$\\Sigma^U[M^{\\mathsf{(ent)}}]$',linestyle='dotted',color=cmap_blues(.9))\n",
    "axs[0].plot(Δspan,masmenosΔ_2copies,label='$\\Sigma[M^{\\mathsf{(ent)}}]$',color=cmap_blues(.7))\n",
    "axs[0].plot(Δspan,lowerΔ_2copies,label='$\\Sigma_L[M^{\\mathsf{(ent)}}]$',linestyle='dashed',color=cmap_blues(.5))\n",
    "\n",
    "axs[0].set_ylabel('noise susceptibility')\n",
    "axs[0].set_ylim(7.5,30)\n",
    "\n",
    "axs[0].legend(fontsize='x-small',loc=(0.66,.44),fancybox=True, framealpha=0.75)\n",
    "\n",
    "axs[0].text(0.05, 0.95, '(a)', transform=axs[0].transAxes,fontsize='large', va='top')\n",
    "\n",
    "\n",
    "axs[1].plot(Δspan,rΔ_2copies,color=cmap_blues(.7),label=r'$r[M^{\\mathsf{(ent)}}]$')\n",
    "axs[1].plot(Δspan,rΔ,color=cmap_reds(.6),label=r'$r[M^{\\mathsf{(sep)}}]$')\n",
    "\n",
    "axs[1].legend(fontsize='x-small',loc=(0.16,.56),fancybox=True, framealpha=0.75)\n",
    "axs[1].text(0.05, 0.95, '(b)', transform=axs[1].transAxes,fontsize='large', va='top')\n",
    "\n",
    "axs[1].set_xlabel(r'$\\Delta$')\n",
    "axs[1].set_ylabel('optimality');\n",
    "\n",
    "# fig2.savefig(\"phiDelta_varyingDeltaNEW.pdf\")"
   ]
  },
  {
   "cell_type": "markdown",
   "id": "2fbfd434-1004-4a3b-8d19-6bef0127fbd8",
   "metadata": {},
   "source": [
    "# SPADE measurement for two incoherent point sources"
   ]
  },
  {
   "cell_type": "markdown",
   "id": "f673c297-736f-427f-b302-6e2e10a8f2bd",
   "metadata": {},
   "source": [
    "The parameter vector is (in order)  $[s,s_0,q]$"
   ]
  },
  {
   "cell_type": "code",
   "execution_count": 32,
   "id": "e5717661-52c7-4fed-9b68-50a63762a476",
   "metadata": {},
   "outputs": [],
   "source": [
    "def prob_scores_spade(s,s0,q,x0): \n",
    "\n",
    "    pvec = np.array( [1/147456 * ( ( np.e )**( -1/16 * ( ( s + ( 2 * s0 + -2 * x0 ) ) )**( 2 ) ) * q * ( ( s + ( 2 * s0 + -2 * x0 ) ) )**( 2 ) * ( ( ( 2 )**( 1/2 ) * ( s )**( 2 ) + ( 4 * s * ( -3 + ( ( 2 )**( 1/2 ) * s0 + -1 * ( 2 )**( 1/2 ) * x0 ) ) + 4 * ( -4 * ( 6 )**( 1/2 ) + ( ( 2 )**( 1/2 ) * ( s0 )**( 2 ) + ( 6 * x0 + ( ( 2 )**( 1/2 ) * ( x0 )**( 2 ) + -2 * s0 * ( 3 + ( 2 )**( 1/2 ) * x0 ) ) ) ) ) ) ) )**( 2 ) + ( np.e )**( -1/16 * ( ( s + ( -2 * s0 + 2 * x0 ) ) )**( 2 ) ) * ( 1 + -1 * q ) * ( ( s + ( -2 * s0 + 2 * x0 ) ) )**( 2 ) * ( ( ( 2 )**( 1/2 ) * ( s )**( 2 ) + ( s * ( 12 + ( -4 * ( 2 )**( 1/2 ) * s0 + 4 * ( 2 )**( 1/2 ) * x0 ) ) + 4 * ( -4 * ( 6 )**( 1/2 ) + ( ( 2 )**( 1/2 ) * ( s0 )**( 2 ) + ( 6 * x0 + ( ( 2 )**( 1/2 ) * ( x0 )**( 2 ) + -2 * s0 * ( 3 + ( 2 )**( 1/2 ) * x0 ) ) ) ) ) ) ) )**( 2 ) ),1/147456 * ( ( np.e )**( -1/16 * ( ( s + ( -2 * s0 + 2 * x0 ) ) )**( 2 ) ) * ( 1 + -1 * q ) * ( ( s + ( -2 * s0 + 2 * x0 ) ) )**( 2 ) * ( ( ( 2 )**( 1/2 ) * ( s )**( 2 ) + ( -4 * s * ( 3 + ( ( 2 )**( 1/2 ) * s0 + -1 * ( 2 )**( 1/2 ) * x0 ) ) + 4 * ( -4 * ( 6 )**( 1/2 ) + ( ( 2 )**( 1/2 ) * ( s0 )**( 2 ) + ( -6 * x0 + ( ( 2 )**( 1/2 ) * ( x0 )**( 2 ) + s0 * ( 6 + -2 * ( 2 )**( 1/2 ) * x0 ) ) ) ) ) ) ) )**( 2 ) + ( np.e )**( -1/16 * ( ( s + ( 2 * s0 + -2 * x0 ) ) )**( 2 ) ) * q * ( ( s + ( 2 * s0 + -2 * x0 ) ) )**( 2 ) * ( ( ( 2 )**( 1/2 ) * ( s )**( 2 ) + ( 4 * s * ( 3 + ( ( 2 )**( 1/2 ) * s0 + -1 * ( 2 )**( 1/2 ) * x0 ) ) + 4 * ( -4 * ( 6 )**( 1/2 ) + ( ( 2 )**( 1/2 ) * ( s0 )**( 2 ) + ( -6 * x0 + ( ( 2 )**( 1/2 ) * ( x0 )**( 2 ) + s0 * ( 6 + -2 * ( 2 )**( 1/2 ) * x0 ) ) ) ) ) ) ) )**( 2 ) ),1/368640 * ( ( np.e )**( -1/16 * ( ( s + ( 2 * s0 + -2 * x0 ) ) )**( 2 ) ) * q * ( ( 384 + ( 96 * ( s + ( 2 * s0 + -2 * x0 ) ) + ( 3 )**( 1/2 ) * ( ( s + ( 2 * s0 + -2 * x0 ) ) )**( 3 ) ) ) )**( 2 ) + ( np.e )**( -1/16 * ( ( s + ( -2 * s0 + 2 * x0 ) ) )**( 2 ) ) * ( 1 + -1 * q ) * ( ( -384 + ( 96 * ( s + ( -2 * s0 + 2 * x0 ) ) + ( 3 )**( 1/2 ) * ( ( s + ( -2 * s0 + 2 * x0 ) ) )**( 3 ) ) ) )**( 2 ) ),1/184320 * ( ( np.e )**( -1/16 * ( ( s + ( 2 * s0 + -2 * x0 ) ) )**( 2 ) ) * q * ( ( -192 * ( 3 )**( 1/2 ) + ( 32 * ( 3 )**( 1/2 ) * ( s + ( 2 * s0 + -2 * x0 ) ) + ( ( s + ( 2 * s0 + -2 * x0 ) ) )**( 3 ) ) ) )**( 2 ) + ( np.e )**( -1/16 * ( ( s + ( -2 * s0 + 2 * x0 ) ) )**( 2 ) ) * ( 1 + -1 * q ) * ( ( 192 * ( 3 )**( 1/2 ) + ( 32 * ( 3 )**( 1/2 ) * ( s + ( -2 * s0 + 2 * x0 ) ) + ( ( s + ( -2 * s0 + 2 * x0 ) ) )**( 3 ) ) ) )**( 2 ) ),] )\n",
    "\n",
    "    l1= np.array( [1/8 * ( ( np.e )**( -1/16 * ( ( s + ( 2 * s0 + -2 * x0 ) ) )**( 2 ) ) * q * ( 16 * ( 6 )**( 1/2 ) + ( 12 * ( s + ( 2 * s0 + -2 * x0 ) ) + -1 * ( 2 )**( 1/2 ) * ( ( s + ( 2 * s0 + -2 * x0 ) ) )**( 2 ) ) ) * ( 256 * ( 6 )**( 1/2 ) + ( 384 * ( s + ( 2 * s0 + -2 * x0 ) ) + ( -48 * ( 2 )**( 1/2 ) * ( ( s + ( 2 * s0 + -2 * x0 ) ) )**( 2 ) + ( -16 * ( 6 )**( 1/2 ) * ( ( s + ( 2 * s0 + -2 * x0 ) ) )**( 2 ) + ( -12 * ( ( s + ( 2 * s0 + -2 * x0 ) ) )**( 3 ) + ( 2 )**( 1/2 ) * ( ( s + ( 2 * s0 + -2 * x0 ) ) )**( 4 ) ) ) ) ) ) * ( s + ( 2 * s0 + -2 * x0 ) ) + ( np.e )**( -1/16 * ( ( s + ( -2 * s0 + 2 * x0 ) ) )**( 2 ) ) * ( 1 + -1 * q ) * ( s + ( -2 * s0 + 2 * x0 ) ) * ( -256 * ( 6 )**( 1/2 ) + ( 384 * ( s + ( -2 * s0 + 2 * x0 ) ) + ( 48 * ( 2 )**( 1/2 ) * ( ( s + ( -2 * s0 + 2 * x0 ) ) )**( 2 ) + ( 16 * ( 6 )**( 1/2 ) * ( ( s + ( -2 * s0 + 2 * x0 ) ) )**( 2 ) + ( -12 * ( ( s + ( -2 * s0 + 2 * x0 ) ) )**( 3 ) + -1 * ( 2 )**( 1/2 ) * ( ( s + ( -2 * s0 + 2 * x0 ) ) )**( 4 ) ) ) ) ) ) * ( ( 2 )**( 1/2 ) * ( s )**( 2 ) + ( s * ( 12 + ( -4 * ( 2 )**( 1/2 ) * s0 + 4 * ( 2 )**( 1/2 ) * x0 ) ) + 4 * ( -4 * ( 6 )**( 1/2 ) + ( ( 2 )**( 1/2 ) * ( s0 )**( 2 ) + ( 6 * x0 + ( ( 2 )**( 1/2 ) * ( x0 )**( 2 ) + -2 * s0 * ( 3 + ( 2 )**( 1/2 ) * x0 ) ) ) ) ) ) ) ) * ( ( ( np.e )**( -1/16 * ( ( s + ( 2 * s0 + -2 * x0 ) ) )**( 2 ) ) * q * ( ( s + ( 2 * s0 + -2 * x0 ) ) )**( 2 ) * ( ( ( 2 )**( 1/2 ) * ( s )**( 2 ) + ( 4 * s * ( -3 + ( ( 2 )**( 1/2 ) * s0 + -1 * ( 2 )**( 1/2 ) * x0 ) ) + 4 * ( -4 * ( 6 )**( 1/2 ) + ( ( 2 )**( 1/2 ) * ( s0 )**( 2 ) + ( 6 * x0 + ( ( 2 )**( 1/2 ) * ( x0 )**( 2 ) + -2 * s0 * ( 3 + ( 2 )**( 1/2 ) * x0 ) ) ) ) ) ) ) )**( 2 ) + ( np.e )**( -1/16 * ( ( s + ( -2 * s0 + 2 * x0 ) ) )**( 2 ) ) * ( 1 + -1 * q ) * ( ( s + ( -2 * s0 + 2 * x0 ) ) )**( 2 ) * ( ( ( 2 )**( 1/2 ) * ( s )**( 2 ) + ( s * ( 12 + ( -4 * ( 2 )**( 1/2 ) * s0 + 4 * ( 2 )**( 1/2 ) * x0 ) ) + 4 * ( -4 * ( 6 )**( 1/2 ) + ( ( 2 )**( 1/2 ) * ( s0 )**( 2 ) + ( 6 * x0 + ( ( 2 )**( 1/2 ) * ( x0 )**( 2 ) + -2 * s0 * ( 3 + ( 2 )**( 1/2 ) * x0 ) ) ) ) ) ) ) )**( 2 ) ) )**( -1 ),1/8 * ( ( np.e )**( -1/16 * ( ( s + ( -2 * s0 + 2 * x0 ) ) )**( 2 ) ) * ( 1 + -1 * q ) * ( s + ( -2 * s0 + 2 * x0 ) ) * ( -256 * ( 6 )**( 1/2 ) + ( -384 * ( s + ( -2 * s0 + 2 * x0 ) ) + ( 48 * ( 2 )**( 1/2 ) * ( ( s + ( -2 * s0 + 2 * x0 ) ) )**( 2 ) + ( 16 * ( 6 )**( 1/2 ) * ( ( s + ( -2 * s0 + 2 * x0 ) ) )**( 2 ) + ( 12 * ( ( s + ( -2 * s0 + 2 * x0 ) ) )**( 3 ) + -1 * ( 2 )**( 1/2 ) * ( ( s + ( -2 * s0 + 2 * x0 ) ) )**( 4 ) ) ) ) ) ) * ( ( 2 )**( 1/2 ) * ( s )**( 2 ) + ( -4 * s * ( 3 + ( ( 2 )**( 1/2 ) * s0 + -1 * ( 2 )**( 1/2 ) * x0 ) ) + 4 * ( -4 * ( 6 )**( 1/2 ) + ( ( 2 )**( 1/2 ) * ( s0 )**( 2 ) + ( -6 * x0 + ( ( 2 )**( 1/2 ) * ( x0 )**( 2 ) + s0 * ( 6 + -2 * ( 2 )**( 1/2 ) * x0 ) ) ) ) ) ) ) + -1 * ( np.e )**( -1/16 * ( ( s + ( 2 * s0 + -2 * x0 ) ) )**( 2 ) ) * q * ( 256 * ( 6 )**( 1/2 ) + ( -384 * ( s + ( 2 * s0 + -2 * x0 ) ) + ( -48 * ( 2 )**( 1/2 ) * ( ( s + ( 2 * s0 + -2 * x0 ) ) )**( 2 ) + ( -16 * ( 6 )**( 1/2 ) * ( ( s + ( 2 * s0 + -2 * x0 ) ) )**( 2 ) + ( 12 * ( ( s + ( 2 * s0 + -2 * x0 ) ) )**( 3 ) + ( 2 )**( 1/2 ) * ( ( s + ( 2 * s0 + -2 * x0 ) ) )**( 4 ) ) ) ) ) ) * ( s + ( 2 * s0 + -2 * x0 ) ) * ( ( 2 )**( 1/2 ) * ( s )**( 2 ) + ( 4 * s * ( 3 + ( ( 2 )**( 1/2 ) * s0 + -1 * ( 2 )**( 1/2 ) * x0 ) ) + 4 * ( -4 * ( 6 )**( 1/2 ) + ( ( 2 )**( 1/2 ) * ( s0 )**( 2 ) + ( -6 * x0 + ( ( 2 )**( 1/2 ) * ( x0 )**( 2 ) + s0 * ( 6 + -2 * ( 2 )**( 1/2 ) * x0 ) ) ) ) ) ) ) ) * ( ( ( np.e )**( -1/16 * ( ( s + ( -2 * s0 + 2 * x0 ) ) )**( 2 ) ) * ( 1 + -1 * q ) * ( ( s + ( -2 * s0 + 2 * x0 ) ) )**( 2 ) * ( ( ( 2 )**( 1/2 ) * ( s )**( 2 ) + ( -4 * s * ( 3 + ( ( 2 )**( 1/2 ) * s0 + -1 * ( 2 )**( 1/2 ) * x0 ) ) + 4 * ( -4 * ( 6 )**( 1/2 ) + ( ( 2 )**( 1/2 ) * ( s0 )**( 2 ) + ( -6 * x0 + ( ( 2 )**( 1/2 ) * ( x0 )**( 2 ) + s0 * ( 6 + -2 * ( 2 )**( 1/2 ) * x0 ) ) ) ) ) ) ) )**( 2 ) + ( np.e )**( -1/16 * ( ( s + ( 2 * s0 + -2 * x0 ) ) )**( 2 ) ) * q * ( ( s + ( 2 * s0 + -2 * x0 ) ) )**( 2 ) * ( ( ( 2 )**( 1/2 ) * ( s )**( 2 ) + ( 4 * s * ( 3 + ( ( 2 )**( 1/2 ) * s0 + -1 * ( 2 )**( 1/2 ) * x0 ) ) + 4 * ( -4 * ( 6 )**( 1/2 ) + ( ( 2 )**( 1/2 ) * ( s0 )**( 2 ) + ( -6 * x0 + ( ( 2 )**( 1/2 ) * ( x0 )**( 2 ) + s0 * ( 6 + -2 * ( 2 )**( 1/2 ) * x0 ) ) ) ) ) ) ) )**( 2 ) ) )**( -1 ),1/8 * ( ( ( np.e )**( -1/16 * ( ( s + ( 2 * s0 + -2 * x0 ) ) )**( 2 ) ) * q * ( ( 384 + ( 96 * ( s + ( 2 * s0 + -2 * x0 ) ) + ( 3 )**( 1/2 ) * ( ( s + ( 2 * s0 + -2 * x0 ) ) )**( 3 ) ) ) )**( 2 ) + ( np.e )**( -1/16 * ( ( s + ( -2 * s0 + 2 * x0 ) ) )**( 2 ) ) * ( 1 + -1 * q ) * ( ( -384 + ( 96 * ( s + ( -2 * s0 + 2 * x0 ) ) + ( 3 )**( 1/2 ) * ( ( s + ( -2 * s0 + 2 * x0 ) ) )**( 3 ) ) ) )**( 2 ) ) )**( -1 ) * ( ( np.e )**( -1/16 * ( ( s + ( 2 * s0 + -2 * x0 ) ) )**( 2 ) ) * q * ( 384 + ( 96 * ( s + ( 2 * s0 + -2 * x0 ) ) + ( 3 )**( 1/2 ) * ( ( s + ( 2 * s0 + -2 * x0 ) ) )**( 3 ) ) ) * ( 1536 + ( -384 * ( s + ( 2 * s0 + -2 * x0 ) ) + ( -96 * ( ( s + ( 2 * s0 + -2 * x0 ) ) )**( 2 ) + ( 48 * ( 3 )**( 1/2 ) * ( ( s + ( 2 * s0 + -2 * x0 ) ) )**( 2 ) + -1 * ( 3 )**( 1/2 ) * ( ( s + ( 2 * s0 + -2 * x0 ) ) )**( 4 ) ) ) ) ) + ( np.e )**( -1/16 * ( ( s + ( -2 * s0 + 2 * x0 ) ) )**( 2 ) ) * ( 1 + -1 * q ) * ( 384 + ( -96 * ( s + ( -2 * s0 + 2 * x0 ) ) + -1 * ( 3 )**( 1/2 ) * ( ( s + ( -2 * s0 + 2 * x0 ) ) )**( 3 ) ) ) * ( -1536 + ( -384 * ( s + ( -2 * s0 + 2 * x0 ) ) + ( 96 * ( ( s + ( -2 * s0 + 2 * x0 ) ) )**( 2 ) + ( -48 * ( 3 )**( 1/2 ) * ( ( s + ( -2 * s0 + 2 * x0 ) ) )**( 2 ) + ( 3 )**( 1/2 ) * ( ( s + ( -2 * s0 + 2 * x0 ) ) )**( 4 ) ) ) ) ) ),1/40 * ( ( ( np.e )**( -1/16 * ( ( s + ( 2 * s0 + -2 * x0 ) ) )**( 2 ) ) * q * ( ( -192 * ( 3 )**( 1/2 ) + ( 32 * ( 3 )**( 1/2 ) * ( s + ( 2 * s0 + -2 * x0 ) ) + ( ( s + ( 2 * s0 + -2 * x0 ) ) )**( 3 ) ) ) )**( 2 ) + ( np.e )**( -1/16 * ( ( s + ( -2 * s0 + 2 * x0 ) ) )**( 2 ) ) * ( 1 + -1 * q ) * ( ( 192 * ( 3 )**( 1/2 ) + ( 32 * ( 3 )**( 1/2 ) * ( s + ( -2 * s0 + 2 * x0 ) ) + ( ( s + ( -2 * s0 + 2 * x0 ) ) )**( 3 ) ) ) )**( 2 ) ) )**( -1 ) * ( 5 * ( np.e )**( -1/16 * ( ( s + ( 2 * s0 + -2 * x0 ) ) )**( 2 ) ) * q * ( -192 * ( 3 )**( 1/2 ) + ( 32 * ( 3 )**( 1/2 ) * ( s + ( 2 * s0 + -2 * x0 ) ) + ( ( s + ( 2 * s0 + -2 * x0 ) ) )**( 3 ) ) ) * ( 512 * ( 3 )**( 1/2 ) + ( 192 * ( 3 )**( 1/2 ) * ( s + ( 2 * s0 + -2 * x0 ) ) + ( 48 * ( ( s + ( 2 * s0 + -2 * x0 ) ) )**( 2 ) + ( -32 * ( 3 )**( 1/2 ) * ( ( s + ( 2 * s0 + -2 * x0 ) ) )**( 2 ) + -1 * ( ( s + ( 2 * s0 + -2 * x0 ) ) )**( 4 ) ) ) ) ) + 5 * ( np.e )**( -1/16 * ( ( s + ( -2 * s0 + 2 * x0 ) ) )**( 2 ) ) * ( 1 + -1 * q ) * ( -192 * ( 3 )**( 1/2 ) + ( -32 * ( 3 )**( 1/2 ) * ( s + ( -2 * s0 + 2 * x0 ) ) + -1 * ( ( s + ( -2 * s0 + 2 * x0 ) ) )**( 3 ) ) ) * ( -512 * ( 3 )**( 1/2 ) + ( 192 * ( 3 )**( 1/2 ) * ( s + ( -2 * s0 + 2 * x0 ) ) + ( -48 * ( ( s + ( -2 * s0 + 2 * x0 ) ) )**( 2 ) + ( 32 * ( 3 )**( 1/2 ) * ( ( s + ( -2 * s0 + 2 * x0 ) ) )**( 2 ) + ( ( s + ( -2 * s0 + 2 * x0 ) ) )**( 4 ) ) ) ) ) ),] )\n",
    "    \n",
    "    l2=np.array( [1/4 * ( ( np.e )**( -1/16 * ( ( s + ( 2 * s0 + -2 * x0 ) ) )**( 2 ) ) * q * ( 16 * ( 6 )**( 1/2 ) + ( 12 * ( s + ( 2 * s0 + -2 * x0 ) ) + -1 * ( 2 )**( 1/2 ) * ( ( s + ( 2 * s0 + -2 * x0 ) ) )**( 2 ) ) ) * ( 256 * ( 6 )**( 1/2 ) + ( 384 * ( s + ( 2 * s0 + -2 * x0 ) ) + ( -48 * ( 2 )**( 1/2 ) * ( ( s + ( 2 * s0 + -2 * x0 ) ) )**( 2 ) + ( -16 * ( 6 )**( 1/2 ) * ( ( s + ( 2 * s0 + -2 * x0 ) ) )**( 2 ) + ( -12 * ( ( s + ( 2 * s0 + -2 * x0 ) ) )**( 3 ) + ( 2 )**( 1/2 ) * ( ( s + ( 2 * s0 + -2 * x0 ) ) )**( 4 ) ) ) ) ) ) * ( s + ( 2 * s0 + -2 * x0 ) ) + ( np.e )**( -1/16 * ( ( s + ( -2 * s0 + 2 * x0 ) ) )**( 2 ) ) * ( 1 + -1 * q ) * ( s + ( -2 * s0 + 2 * x0 ) ) * ( 256 * ( 6 )**( 1/2 ) + ( -384 * ( s + ( -2 * s0 + 2 * x0 ) ) + ( -48 * ( 2 )**( 1/2 ) * ( ( s + ( -2 * s0 + 2 * x0 ) ) )**( 2 ) + ( -16 * ( 6 )**( 1/2 ) * ( ( s + ( -2 * s0 + 2 * x0 ) ) )**( 2 ) + ( 12 * ( ( s + ( -2 * s0 + 2 * x0 ) ) )**( 3 ) + ( 2 )**( 1/2 ) * ( ( s + ( -2 * s0 + 2 * x0 ) ) )**( 4 ) ) ) ) ) ) * ( ( 2 )**( 1/2 ) * ( s )**( 2 ) + ( s * ( 12 + ( -4 * ( 2 )**( 1/2 ) * s0 + 4 * ( 2 )**( 1/2 ) * x0 ) ) + 4 * ( -4 * ( 6 )**( 1/2 ) + ( ( 2 )**( 1/2 ) * ( s0 )**( 2 ) + ( 6 * x0 + ( ( 2 )**( 1/2 ) * ( x0 )**( 2 ) + -2 * s0 * ( 3 + ( 2 )**( 1/2 ) * x0 ) ) ) ) ) ) ) ) * ( ( ( np.e )**( -1/16 * ( ( s + ( 2 * s0 + -2 * x0 ) ) )**( 2 ) ) * q * ( ( s + ( 2 * s0 + -2 * x0 ) ) )**( 2 ) * ( ( ( 2 )**( 1/2 ) * ( s )**( 2 ) + ( 4 * s * ( -3 + ( ( 2 )**( 1/2 ) * s0 + -1 * ( 2 )**( 1/2 ) * x0 ) ) + 4 * ( -4 * ( 6 )**( 1/2 ) + ( ( 2 )**( 1/2 ) * ( s0 )**( 2 ) + ( 6 * x0 + ( ( 2 )**( 1/2 ) * ( x0 )**( 2 ) + -2 * s0 * ( 3 + ( 2 )**( 1/2 ) * x0 ) ) ) ) ) ) ) )**( 2 ) + ( np.e )**( -1/16 * ( ( s + ( -2 * s0 + 2 * x0 ) ) )**( 2 ) ) * ( 1 + -1 * q ) * ( ( s + ( -2 * s0 + 2 * x0 ) ) )**( 2 ) * ( ( ( 2 )**( 1/2 ) * ( s )**( 2 ) + ( s * ( 12 + ( -4 * ( 2 )**( 1/2 ) * s0 + 4 * ( 2 )**( 1/2 ) * x0 ) ) + 4 * ( -4 * ( 6 )**( 1/2 ) + ( ( 2 )**( 1/2 ) * ( s0 )**( 2 ) + ( 6 * x0 + ( ( 2 )**( 1/2 ) * ( x0 )**( 2 ) + -2 * s0 * ( 3 + ( 2 )**( 1/2 ) * x0 ) ) ) ) ) ) ) )**( 2 ) ) )**( -1 ),1/4 * ( ( np.e )**( -1/16 * ( ( s + ( -2 * s0 + 2 * x0 ) ) )**( 2 ) ) * ( 1 + -1 * q ) * ( s + ( -2 * s0 + 2 * x0 ) ) * ( 256 * ( 6 )**( 1/2 ) + ( 384 * ( s + ( -2 * s0 + 2 * x0 ) ) + ( -48 * ( 2 )**( 1/2 ) * ( ( s + ( -2 * s0 + 2 * x0 ) ) )**( 2 ) + ( -16 * ( 6 )**( 1/2 ) * ( ( s + ( -2 * s0 + 2 * x0 ) ) )**( 2 ) + ( -12 * ( ( s + ( -2 * s0 + 2 * x0 ) ) )**( 3 ) + ( 2 )**( 1/2 ) * ( ( s + ( -2 * s0 + 2 * x0 ) ) )**( 4 ) ) ) ) ) ) * ( ( 2 )**( 1/2 ) * ( s )**( 2 ) + ( -4 * s * ( 3 + ( ( 2 )**( 1/2 ) * s0 + -1 * ( 2 )**( 1/2 ) * x0 ) ) + 4 * ( -4 * ( 6 )**( 1/2 ) + ( ( 2 )**( 1/2 ) * ( s0 )**( 2 ) + ( -6 * x0 + ( ( 2 )**( 1/2 ) * ( x0 )**( 2 ) + s0 * ( 6 + -2 * ( 2 )**( 1/2 ) * x0 ) ) ) ) ) ) ) + -1 * ( np.e )**( -1/16 * ( ( s + ( 2 * s0 + -2 * x0 ) ) )**( 2 ) ) * q * ( 256 * ( 6 )**( 1/2 ) + ( -384 * ( s + ( 2 * s0 + -2 * x0 ) ) + ( -48 * ( 2 )**( 1/2 ) * ( ( s + ( 2 * s0 + -2 * x0 ) ) )**( 2 ) + ( -16 * ( 6 )**( 1/2 ) * ( ( s + ( 2 * s0 + -2 * x0 ) ) )**( 2 ) + ( 12 * ( ( s + ( 2 * s0 + -2 * x0 ) ) )**( 3 ) + ( 2 )**( 1/2 ) * ( ( s + ( 2 * s0 + -2 * x0 ) ) )**( 4 ) ) ) ) ) ) * ( s + ( 2 * s0 + -2 * x0 ) ) * ( ( 2 )**( 1/2 ) * ( s )**( 2 ) + ( 4 * s * ( 3 + ( ( 2 )**( 1/2 ) * s0 + -1 * ( 2 )**( 1/2 ) * x0 ) ) + 4 * ( -4 * ( 6 )**( 1/2 ) + ( ( 2 )**( 1/2 ) * ( s0 )**( 2 ) + ( -6 * x0 + ( ( 2 )**( 1/2 ) * ( x0 )**( 2 ) + s0 * ( 6 + -2 * ( 2 )**( 1/2 ) * x0 ) ) ) ) ) ) ) ) * ( ( ( np.e )**( -1/16 * ( ( s + ( -2 * s0 + 2 * x0 ) ) )**( 2 ) ) * ( 1 + -1 * q ) * ( ( s + ( -2 * s0 + 2 * x0 ) ) )**( 2 ) * ( ( ( 2 )**( 1/2 ) * ( s )**( 2 ) + ( -4 * s * ( 3 + ( ( 2 )**( 1/2 ) * s0 + -1 * ( 2 )**( 1/2 ) * x0 ) ) + 4 * ( -4 * ( 6 )**( 1/2 ) + ( ( 2 )**( 1/2 ) * ( s0 )**( 2 ) + ( -6 * x0 + ( ( 2 )**( 1/2 ) * ( x0 )**( 2 ) + s0 * ( 6 + -2 * ( 2 )**( 1/2 ) * x0 ) ) ) ) ) ) ) )**( 2 ) + ( np.e )**( -1/16 * ( ( s + ( 2 * s0 + -2 * x0 ) ) )**( 2 ) ) * q * ( ( s + ( 2 * s0 + -2 * x0 ) ) )**( 2 ) * ( ( ( 2 )**( 1/2 ) * ( s )**( 2 ) + ( 4 * s * ( 3 + ( ( 2 )**( 1/2 ) * s0 + -1 * ( 2 )**( 1/2 ) * x0 ) ) + 4 * ( -4 * ( 6 )**( 1/2 ) + ( ( 2 )**( 1/2 ) * ( s0 )**( 2 ) + ( -6 * x0 + ( ( 2 )**( 1/2 ) * ( x0 )**( 2 ) + s0 * ( 6 + -2 * ( 2 )**( 1/2 ) * x0 ) ) ) ) ) ) ) )**( 2 ) ) )**( -1 ),1/4 * ( ( ( np.e )**( -1/16 * ( ( s + ( 2 * s0 + -2 * x0 ) ) )**( 2 ) ) * q * ( ( 384 + ( 96 * ( s + ( 2 * s0 + -2 * x0 ) ) + ( 3 )**( 1/2 ) * ( ( s + ( 2 * s0 + -2 * x0 ) ) )**( 3 ) ) ) )**( 2 ) + ( np.e )**( -1/16 * ( ( s + ( -2 * s0 + 2 * x0 ) ) )**( 2 ) ) * ( 1 + -1 * q ) * ( ( -384 + ( 96 * ( s + ( -2 * s0 + 2 * x0 ) ) + ( 3 )**( 1/2 ) * ( ( s + ( -2 * s0 + 2 * x0 ) ) )**( 3 ) ) ) )**( 2 ) ) )**( -1 ) * ( ( np.e )**( -1/16 * ( ( s + ( 2 * s0 + -2 * x0 ) ) )**( 2 ) ) * q * ( 384 + ( 96 * ( s + ( 2 * s0 + -2 * x0 ) ) + ( 3 )**( 1/2 ) * ( ( s + ( 2 * s0 + -2 * x0 ) ) )**( 3 ) ) ) * ( 1536 + ( -384 * ( s + ( 2 * s0 + -2 * x0 ) ) + ( -96 * ( ( s + ( 2 * s0 + -2 * x0 ) ) )**( 2 ) + ( 48 * ( 3 )**( 1/2 ) * ( ( s + ( 2 * s0 + -2 * x0 ) ) )**( 2 ) + -1 * ( 3 )**( 1/2 ) * ( ( s + ( 2 * s0 + -2 * x0 ) ) )**( 4 ) ) ) ) ) + ( np.e )**( -1/16 * ( ( s + ( -2 * s0 + 2 * x0 ) ) )**( 2 ) ) * ( 1 + -1 * q ) * ( 384 + ( -96 * ( s + ( -2 * s0 + 2 * x0 ) ) + -1 * ( 3 )**( 1/2 ) * ( ( s + ( -2 * s0 + 2 * x0 ) ) )**( 3 ) ) ) * ( 1536 + ( 384 * ( s + ( -2 * s0 + 2 * x0 ) ) + ( -96 * ( ( s + ( -2 * s0 + 2 * x0 ) ) )**( 2 ) + ( 48 * ( 3 )**( 1/2 ) * ( ( s + ( -2 * s0 + 2 * x0 ) ) )**( 2 ) + -1 * ( 3 )**( 1/2 ) * ( ( s + ( -2 * s0 + 2 * x0 ) ) )**( 4 ) ) ) ) ) ),1/20 * ( ( ( np.e )**( -1/16 * ( ( s + ( 2 * s0 + -2 * x0 ) ) )**( 2 ) ) * q * ( ( -192 * ( 3 )**( 1/2 ) + ( 32 * ( 3 )**( 1/2 ) * ( s + ( 2 * s0 + -2 * x0 ) ) + ( ( s + ( 2 * s0 + -2 * x0 ) ) )**( 3 ) ) ) )**( 2 ) + ( np.e )**( -1/16 * ( ( s + ( -2 * s0 + 2 * x0 ) ) )**( 2 ) ) * ( 1 + -1 * q ) * ( ( 192 * ( 3 )**( 1/2 ) + ( 32 * ( 3 )**( 1/2 ) * ( s + ( -2 * s0 + 2 * x0 ) ) + ( ( s + ( -2 * s0 + 2 * x0 ) ) )**( 3 ) ) ) )**( 2 ) ) )**( -1 ) * ( 5 * ( np.e )**( -1/16 * ( ( s + ( 2 * s0 + -2 * x0 ) ) )**( 2 ) ) * q * ( -192 * ( 3 )**( 1/2 ) + ( 32 * ( 3 )**( 1/2 ) * ( s + ( 2 * s0 + -2 * x0 ) ) + ( ( s + ( 2 * s0 + -2 * x0 ) ) )**( 3 ) ) ) * ( 512 * ( 3 )**( 1/2 ) + ( 192 * ( 3 )**( 1/2 ) * ( s + ( 2 * s0 + -2 * x0 ) ) + ( 48 * ( ( s + ( 2 * s0 + -2 * x0 ) ) )**( 2 ) + ( -32 * ( 3 )**( 1/2 ) * ( ( s + ( 2 * s0 + -2 * x0 ) ) )**( 2 ) + -1 * ( ( s + ( 2 * s0 + -2 * x0 ) ) )**( 4 ) ) ) ) ) + 5 * ( np.e )**( -1/16 * ( ( s + ( -2 * s0 + 2 * x0 ) ) )**( 2 ) ) * ( 1 + -1 * q ) * ( -192 * ( 3 )**( 1/2 ) + ( -32 * ( 3 )**( 1/2 ) * ( s + ( -2 * s0 + 2 * x0 ) ) + -1 * ( ( s + ( -2 * s0 + 2 * x0 ) ) )**( 3 ) ) ) * ( 512 * ( 3 )**( 1/2 ) + ( -192 * ( 3 )**( 1/2 ) * ( s + ( -2 * s0 + 2 * x0 ) ) + ( 48 * ( ( s + ( -2 * s0 + 2 * x0 ) ) )**( 2 ) + ( -32 * ( 3 )**( 1/2 ) * ( ( s + ( -2 * s0 + 2 * x0 ) ) )**( 2 ) + -1 * ( ( s + ( -2 * s0 + 2 * x0 ) ) )**( 4 ) ) ) ) ) ),] )\n",
    "    \n",
    "    l3=np.array( [( ( np.e )**( -1/16 * ( ( s + ( 2 * s0 + -2 * x0 ) ) )**( 2 ) ) * ( ( 16 * ( 6 )**( 1/2 ) + ( 12 * ( s + ( 2 * s0 + -2 * x0 ) ) + -1 * ( 2 )**( 1/2 ) * ( ( s + ( 2 * s0 + -2 * x0 ) ) )**( 2 ) ) ) )**( 2 ) * ( ( s + ( 2 * s0 + -2 * x0 ) ) )**( 2 ) + -1 * ( np.e )**( -1/16 * ( ( s + ( -2 * s0 + 2 * x0 ) ) )**( 2 ) ) * ( ( s + ( -2 * s0 + 2 * x0 ) ) )**( 2 ) * ( ( ( 2 )**( 1/2 ) * ( s )**( 2 ) + ( s * ( 12 + ( -4 * ( 2 )**( 1/2 ) * s0 + 4 * ( 2 )**( 1/2 ) * x0 ) ) + 4 * ( -4 * ( 6 )**( 1/2 ) + ( ( 2 )**( 1/2 ) * ( s0 )**( 2 ) + ( 6 * x0 + ( ( 2 )**( 1/2 ) * ( x0 )**( 2 ) + -2 * s0 * ( 3 + ( 2 )**( 1/2 ) * x0 ) ) ) ) ) ) ) )**( 2 ) ) * ( ( ( np.e )**( -1/16 * ( ( s + ( 2 * s0 + -2 * x0 ) ) )**( 2 ) ) * q * ( ( s + ( 2 * s0 + -2 * x0 ) ) )**( 2 ) * ( ( ( 2 )**( 1/2 ) * ( s )**( 2 ) + ( 4 * s * ( -3 + ( ( 2 )**( 1/2 ) * s0 + -1 * ( 2 )**( 1/2 ) * x0 ) ) + 4 * ( -4 * ( 6 )**( 1/2 ) + ( ( 2 )**( 1/2 ) * ( s0 )**( 2 ) + ( 6 * x0 + ( ( 2 )**( 1/2 ) * ( x0 )**( 2 ) + -2 * s0 * ( 3 + ( 2 )**( 1/2 ) * x0 ) ) ) ) ) ) ) )**( 2 ) + ( np.e )**( -1/16 * ( ( s + ( -2 * s0 + 2 * x0 ) ) )**( 2 ) ) * ( 1 + -1 * q ) * ( ( s + ( -2 * s0 + 2 * x0 ) ) )**( 2 ) * ( ( ( 2 )**( 1/2 ) * ( s )**( 2 ) + ( s * ( 12 + ( -4 * ( 2 )**( 1/2 ) * s0 + 4 * ( 2 )**( 1/2 ) * x0 ) ) + 4 * ( -4 * ( 6 )**( 1/2 ) + ( ( 2 )**( 1/2 ) * ( s0 )**( 2 ) + ( 6 * x0 + ( ( 2 )**( 1/2 ) * ( x0 )**( 2 ) + -2 * s0 * ( 3 + ( 2 )**( 1/2 ) * x0 ) ) ) ) ) ) ) )**( 2 ) ) )**( -1 ),( -1 * ( np.e )**( -1/16 * ( ( s + ( -2 * s0 + 2 * x0 ) ) )**( 2 ) ) * ( ( s + ( -2 * s0 + 2 * x0 ) ) )**( 2 ) * ( ( ( 2 )**( 1/2 ) * ( s )**( 2 ) + ( -4 * s * ( 3 + ( ( 2 )**( 1/2 ) * s0 + -1 * ( 2 )**( 1/2 ) * x0 ) ) + 4 * ( -4 * ( 6 )**( 1/2 ) + ( ( 2 )**( 1/2 ) * ( s0 )**( 2 ) + ( -6 * x0 + ( ( 2 )**( 1/2 ) * ( x0 )**( 2 ) + s0 * ( 6 + -2 * ( 2 )**( 1/2 ) * x0 ) ) ) ) ) ) ) )**( 2 ) + ( np.e )**( -1/16 * ( ( s + ( 2 * s0 + -2 * x0 ) ) )**( 2 ) ) * ( ( s + ( 2 * s0 + -2 * x0 ) ) )**( 2 ) * ( ( ( 2 )**( 1/2 ) * ( s )**( 2 ) + ( 4 * s * ( 3 + ( ( 2 )**( 1/2 ) * s0 + -1 * ( 2 )**( 1/2 ) * x0 ) ) + 4 * ( -4 * ( 6 )**( 1/2 ) + ( ( 2 )**( 1/2 ) * ( s0 )**( 2 ) + ( -6 * x0 + ( ( 2 )**( 1/2 ) * ( x0 )**( 2 ) + s0 * ( 6 + -2 * ( 2 )**( 1/2 ) * x0 ) ) ) ) ) ) ) )**( 2 ) ) * ( ( ( np.e )**( -1/16 * ( ( s + ( -2 * s0 + 2 * x0 ) ) )**( 2 ) ) * ( 1 + -1 * q ) * ( ( s + ( -2 * s0 + 2 * x0 ) ) )**( 2 ) * ( ( ( 2 )**( 1/2 ) * ( s )**( 2 ) + ( -4 * s * ( 3 + ( ( 2 )**( 1/2 ) * s0 + -1 * ( 2 )**( 1/2 ) * x0 ) ) + 4 * ( -4 * ( 6 )**( 1/2 ) + ( ( 2 )**( 1/2 ) * ( s0 )**( 2 ) + ( -6 * x0 + ( ( 2 )**( 1/2 ) * ( x0 )**( 2 ) + s0 * ( 6 + -2 * ( 2 )**( 1/2 ) * x0 ) ) ) ) ) ) ) )**( 2 ) + ( np.e )**( -1/16 * ( ( s + ( 2 * s0 + -2 * x0 ) ) )**( 2 ) ) * q * ( ( s + ( 2 * s0 + -2 * x0 ) ) )**( 2 ) * ( ( ( 2 )**( 1/2 ) * ( s )**( 2 ) + ( 4 * s * ( 3 + ( ( 2 )**( 1/2 ) * s0 + -1 * ( 2 )**( 1/2 ) * x0 ) ) + 4 * ( -4 * ( 6 )**( 1/2 ) + ( ( 2 )**( 1/2 ) * ( s0 )**( 2 ) + ( -6 * x0 + ( ( 2 )**( 1/2 ) * ( x0 )**( 2 ) + s0 * ( 6 + -2 * ( 2 )**( 1/2 ) * x0 ) ) ) ) ) ) ) )**( 2 ) ) )**( -1 ),( ( np.e )**( -1/16 * ( ( s + ( 2 * s0 + -2 * x0 ) ) )**( 2 ) ) * ( ( 384 + ( 96 * ( s + ( 2 * s0 + -2 * x0 ) ) + ( 3 )**( 1/2 ) * ( ( s + ( 2 * s0 + -2 * x0 ) ) )**( 3 ) ) ) )**( 2 ) + -1 * ( np.e )**( -1/16 * ( ( s + ( -2 * s0 + 2 * x0 ) ) )**( 2 ) ) * ( ( -384 + ( 96 * ( s + ( -2 * s0 + 2 * x0 ) ) + ( 3 )**( 1/2 ) * ( ( s + ( -2 * s0 + 2 * x0 ) ) )**( 3 ) ) ) )**( 2 ) ) * ( ( ( np.e )**( -1/16 * ( ( s + ( 2 * s0 + -2 * x0 ) ) )**( 2 ) ) * q * ( ( 384 + ( 96 * ( s + ( 2 * s0 + -2 * x0 ) ) + ( 3 )**( 1/2 ) * ( ( s + ( 2 * s0 + -2 * x0 ) ) )**( 3 ) ) ) )**( 2 ) + ( np.e )**( -1/16 * ( ( s + ( -2 * s0 + 2 * x0 ) ) )**( 2 ) ) * ( 1 + -1 * q ) * ( ( -384 + ( 96 * ( s + ( -2 * s0 + 2 * x0 ) ) + ( 3 )**( 1/2 ) * ( ( s + ( -2 * s0 + 2 * x0 ) ) )**( 3 ) ) ) )**( 2 ) ) )**( -1 ),( ( np.e )**( -1/16 * ( ( s + ( 2 * s0 + -2 * x0 ) ) )**( 2 ) ) * ( ( -192 * ( 3 )**( 1/2 ) + ( 32 * ( 3 )**( 1/2 ) * ( s + ( 2 * s0 + -2 * x0 ) ) + ( ( s + ( 2 * s0 + -2 * x0 ) ) )**( 3 ) ) ) )**( 2 ) + -1 * ( np.e )**( -1/16 * ( ( s + ( -2 * s0 + 2 * x0 ) ) )**( 2 ) ) * ( ( 192 * ( 3 )**( 1/2 ) + ( 32 * ( 3 )**( 1/2 ) * ( s + ( -2 * s0 + 2 * x0 ) ) + ( ( s + ( -2 * s0 + 2 * x0 ) ) )**( 3 ) ) ) )**( 2 ) ) * ( ( ( np.e )**( -1/16 * ( ( s + ( 2 * s0 + -2 * x0 ) ) )**( 2 ) ) * q * ( ( -192 * ( 3 )**( 1/2 ) + ( 32 * ( 3 )**( 1/2 ) * ( s + ( 2 * s0 + -2 * x0 ) ) + ( ( s + ( 2 * s0 + -2 * x0 ) ) )**( 3 ) ) ) )**( 2 ) + ( np.e )**( -1/16 * ( ( s + ( -2 * s0 + 2 * x0 ) ) )**( 2 ) ) * ( 1 + -1 * q ) * ( ( 192 * ( 3 )**( 1/2 ) + ( 32 * ( 3 )**( 1/2 ) * ( s + ( -2 * s0 + 2 * x0 ) ) + ( ( s + ( -2 * s0 + 2 * x0 ) ) )**( 3 ) ) ) )**( 2 ) ) )**( -1 ),] )\n",
    "\n",
    "    return (pvec, [ l1  , l2 , l3 ])"
   ]
  },
  {
   "cell_type": "code",
   "execution_count": 33,
   "id": "f273da11-dd01-4414-8bd1-0da464950e1f",
   "metadata": {},
   "outputs": [],
   "source": [
    "def rho_drho_spade(s,s0,q):\n",
    "    \n",
    "    rho = np.array( [np.array( [1/2 * ( 1 + ( np.e )**( -1/8 * ( s )**( 2 ) ) ),1/2 * ( ( 1 + -1 * ( np.e )**( -1/4 * ( s )**( 2 ) ) ) )**( 1/2 ) * ( -1 + 2 * q ),0,0,] ),np.array( [1/2 * ( ( 1 + -1 * ( np.e )**( -1/4 * ( s )**( 2 ) ) ) )**( 1/2 ) * ( -1 + 2 * q ),1/2 * ( 1 + -1 * ( np.e )**( -1/8 * ( s )**( 2 ) ) ),0,0,] ),np.array( [0,0,0,0,] ),np.array( [0,0,0,0,] ),] );\n",
    "\n",
    "    d1rho= np.array( [np.array( [-1/8 * ( np.e )**( -1/8 * ( s )**( 2 ) ) * s,1/8 * ( np.e )**( -1/4 * ( s )**( 2 ) ) * ( ( 1 + -1 * ( np.e )**( -1/4 * ( s )**( 2 ) ) ) )**( -1/2 ) * ( -1 + 2 * q ) * s,1/16 * ( ( 1 + ( np.e )**( -1/8 * ( s )**( 2 ) ) ) )**( 1/2 ) * ( ( ( 1 + ( np.e )**( 1/8 * ( s )**( 2 ) ) ) )**( -1 ) * ( ( s )**( 2 ) + 8 * np.sinh( 1/8 * ( s )**( 2 ) ) ) )**( 1/2 ),1/16 * ( ( 1 + ( np.e )**( -1/8 * ( s )**( 2 ) ) ) )**( 1/2 ) * ( -1 + 2 * q ) * ( ( 4 + ( 4 * ( np.e )**( -1/8 * ( s )**( 2 ) ) + -1 * ( ( -1 + ( np.e )**( 1/8 * ( s )**( 2 ) ) ) )**( -1 ) * ( s )**( 2 ) ) ) )**( 1/2 ),] ),np.array( [1/8 * ( np.e )**( -1/4 * ( s )**( 2 ) ) * ( ( 1 + -1 * ( np.e )**( -1/4 * ( s )**( 2 ) ) ) )**( -1/2 ) * ( -1 + 2 * q ) * s,1/8 * ( np.e )**( -1/8 * ( s )**( 2 ) ) * s,1/16 * ( ( 1 + -1 * ( np.e )**( -1/8 * ( s )**( 2 ) ) ) )**( 1/2 ) * ( -1 + 2 * q ) * ( ( ( 1 + ( np.e )**( 1/8 * ( s )**( 2 ) ) ) )**( -1 ) * ( ( s )**( 2 ) + 8 * np.sinh( 1/8 * ( s )**( 2 ) ) ) )**( 1/2 ),1/16 * ( 2 )**( -1/2 ) * ( ( 1 + -1 * ( np.e )**( -1/8 * ( s )**( 2 ) ) ) )**( 1/2 ) * ( -1 * ( -1 + 1/np.tanh( 1/16 * ( s )**( 2 ) ) ) * ( ( s )**( 2 ) + -8 * np.sinh( 1/8 * ( s )**( 2 ) ) ) )**( 1/2 ),] ),np.array( [1/16 * ( ( 1 + ( np.e )**( -1/8 * ( s )**( 2 ) ) ) )**( 1/2 ) * ( ( ( 1 + ( np.e )**( 1/8 * ( s )**( 2 ) ) ) )**( -1 ) * ( ( s )**( 2 ) + 8 * np.sinh( 1/8 * ( s )**( 2 ) ) ) )**( 1/2 ),1/16 * ( ( 1 + -1 * ( np.e )**( -1/8 * ( s )**( 2 ) ) ) )**( 1/2 ) * ( -1 + 2 * q ) * ( ( ( 1 + ( np.e )**( 1/8 * ( s )**( 2 ) ) ) )**( -1 ) * ( ( s )**( 2 ) + 8 * np.sinh( 1/8 * ( s )**( 2 ) ) ) )**( 1/2 ),0,0,] ),np.array( [1/16 * ( ( 1 + ( np.e )**( -1/8 * ( s )**( 2 ) ) ) )**( 1/2 ) * ( -1 + 2 * q ) * ( ( 4 + ( 4 * ( np.e )**( -1/8 * ( s )**( 2 ) ) + -1 * ( ( -1 + ( np.e )**( 1/8 * ( s )**( 2 ) ) ) )**( -1 ) * ( s )**( 2 ) ) ) )**( 1/2 ),1/16 * ( 2 )**( -1/2 ) * ( ( 1 + -1 * ( np.e )**( -1/8 * ( s )**( 2 ) ) ) )**( 1/2 ) * ( -1 * ( -1 + 1/np.tanh( 1/16 * ( s )**( 2 ) ) ) * ( ( s )**( 2 ) + -8 * np.sinh( 1/8 * ( s )**( 2 ) ) ) )**( 1/2 ),0,0,] ),] );\n",
    "\n",
    "    d2rho = np.array( [np.array( [1/4 * ( np.e )**( -1/8 * ( s )**( 2 ) ) * ( s + -2 * q * s ),1/4 * ( np.e )**( -1/4 * ( s )**( 2 ) ) * ( ( 1 + -1 * ( np.e )**( -1/4 * ( s )**( 2 ) ) ) )**( -1/2 ) * s,1/8 * ( ( 1 + ( np.e )**( -1/8 * ( s )**( 2 ) ) ) )**( 1/2 ) * ( -1 + 2 * q ) * ( ( ( 1 + ( np.e )**( 1/8 * ( s )**( 2 ) ) ) )**( -1 ) * ( ( s )**( 2 ) + 8 * np.sinh( 1/8 * ( s )**( 2 ) ) ) )**( 1/2 ),1/8 * ( 2 )**( -1/2 ) * ( ( 1 + ( np.e )**( -1/8 * ( s )**( 2 ) ) ) )**( 1/2 ) * ( -1 * ( -1 + 1/np.tanh( 1/16 * ( s )**( 2 ) ) ) * ( ( s )**( 2 ) + -8 * np.sinh( 1/8 * ( s )**( 2 ) ) ) )**( 1/2 ),] ),np.array( [1/4 * ( np.e )**( -1/4 * ( s )**( 2 ) ) * ( ( 1 + -1 * ( np.e )**( -1/4 * ( s )**( 2 ) ) ) )**( -1/2 ) * s,1/4 * ( np.e )**( -1/8 * ( s )**( 2 ) ) * ( -1 + 2 * q ) * s,1/8 * ( ( 1 + -1 * ( np.e )**( -1/8 * ( s )**( 2 ) ) ) )**( 1/2 ) * ( ( ( 1 + ( np.e )**( 1/8 * ( s )**( 2 ) ) ) )**( -1 ) * ( ( s )**( 2 ) + 8 * np.sinh( 1/8 * ( s )**( 2 ) ) ) )**( 1/2 ),1/8 * ( ( 1 + -1 * ( np.e )**( -1/8 * ( s )**( 2 ) ) ) )**( 1/2 ) * ( -1 + 2 * q ) * ( ( 4 + ( 4 * ( np.e )**( -1/8 * ( s )**( 2 ) ) + -1 * ( ( -1 + ( np.e )**( 1/8 * ( s )**( 2 ) ) ) )**( -1 ) * ( s )**( 2 ) ) ) )**( 1/2 ),] ),np.array( [1/8 * ( ( 1 + ( np.e )**( -1/8 * ( s )**( 2 ) ) ) )**( 1/2 ) * ( -1 + 2 * q ) * ( ( ( 1 + ( np.e )**( 1/8 * ( s )**( 2 ) ) ) )**( -1 ) * ( ( s )**( 2 ) + 8 * np.sinh( 1/8 * ( s )**( 2 ) ) ) )**( 1/2 ),1/8 * ( ( 1 + -1 * ( np.e )**( -1/8 * ( s )**( 2 ) ) ) )**( 1/2 ) * ( ( ( 1 + ( np.e )**( 1/8 * ( s )**( 2 ) ) ) )**( -1 ) * ( ( s )**( 2 ) + 8 * np.sinh( 1/8 * ( s )**( 2 ) ) ) )**( 1/2 ),0,0,] ),np.array( [1/8 * ( 2 )**( -1/2 ) * ( ( 1 + ( np.e )**( -1/8 * ( s )**( 2 ) ) ) )**( 1/2 ) * ( -1 * ( -1 + 1/np.tanh( 1/16 * ( s )**( 2 ) ) ) * ( ( s )**( 2 ) + -8 * np.sinh( 1/8 * ( s )**( 2 ) ) ) )**( 1/2 ),1/8 * ( ( 1 + -1 * ( np.e )**( -1/8 * ( s )**( 2 ) ) ) )**( 1/2 ) * ( -1 + 2 * q ) * ( ( 4 + ( 4 * ( np.e )**( -1/8 * ( s )**( 2 ) ) + -1 * ( ( -1 + ( np.e )**( 1/8 * ( s )**( 2 ) ) ) )**( -1 ) * ( s )**( 2 ) ) ) )**( 1/2 ),0,0,] ),] )\n",
    "    \n",
    "    d3rho = np.array( [np.array( [0,( ( 1 + -1 * ( np.e )**( -1/4 * ( s )**( 2 ) ) ) )**( 1/2 ),0,0,] ),np.array( [( ( 1 + -1 * ( np.e )**( -1/4 * ( s )**( 2 ) ) ) )**( 1/2 ),0,0,0,] ),np.array( [0,0,0,0,] ),np.array( [0,0,0,0,] ),] )\n",
    "    \n",
    "    return (rho , [ d1rho, d2rho, d3rho ] )"
   ]
  },
  {
   "cell_type": "code",
   "execution_count": 34,
   "id": "d2a7fa9e-5e33-40c0-972f-a118b7487c42",
   "metadata": {},
   "outputs": [],
   "source": [
    "def x0func(s,s0,q):\n",
    "    return s0 + (2*q - 1)*s/2"
   ]
  },
  {
   "cell_type": "markdown",
   "id": "33d18fab-a66b-4ad2-80a6-6a3beb221cd5",
   "metadata": {},
   "source": [
    "## Plot as a function of $\\delta x$"
   ]
  },
  {
   "cell_type": "code",
   "execution_count": 35,
   "id": "1a4462f2-47d1-4359-adfe-b5733e58b526",
   "metadata": {},
   "outputs": [],
   "source": [
    "svals = np.linspace(0.0075,0.501,500)\n",
    "s0val = 0."
   ]
  },
  {
   "cell_type": "code",
   "execution_count": 36,
   "id": "47352c58-81ab-4bce-bcd9-7f4df2c773e1",
   "metadata": {},
   "outputs": [],
   "source": [
    "qval = 0.490\n",
    "menos_spade_q0d49 = np.zeros_like(svals)\n",
    "menos_spade_q0d49_ub = np.zeros_like(svals)\n",
    "menos_spade_q0d49_lb = np.zeros_like(svals)\n",
    "\n",
    "r_spade_q0d49 = np.zeros_like(svals)\n",
    "r_spade_nuisance_q0d49 = np.zeros_like(svals)\n",
    "\n",
    "for ii, ss in enumerate(svals):\n",
    "\n",
    "    ( p_i , llmat_i ) = prob_scores_spade(ss,s0val,qval,x0func(ss,s0val,qval))\n",
    "    \n",
    "    ( ρ_i , drho_i ) = rho_drho_spade(ss,s0val,qval)\n",
    "\n",
    "    QFIval_i = QFI_SLD(ρ_i,drho_i)\n",
    "    Fval_i = FImat(p_i,llmat_i)\n",
    "    \n",
    "    r_spade_q0d49[ii]= np.trace( np.linalg.inv(Fval_i)) / np.trace( np.linalg.inv(QFIval_i))\n",
    "\n",
    "    r_spade_nuisance_q0d49[ii]= np.linalg.inv(Fval_i)[0,0] / np.linalg.inv(QFIval_i)[0,0]\n",
    "\n",
    "    eigvalsF, eigvecF = np.linalg.eig(Fval_i)\n",
    "    \n",
    "    llmat_i_diag = np.zeros_like(llmat_i)\n",
    "    for i in range(3):\n",
    "        for j in range(3):\n",
    "            llmat_i_diag[i] += eigvecF[j,i]*llmat_i[j]\n",
    "\n",
    "    drho_i_diag = np.zeros_like(drho_i)\n",
    "    for i in range(3):\n",
    "        for j in range(3):\n",
    "            drho_i_diag[i] += eigvecF[j,i]*drho_i[j]\n",
    "    \n",
    "    menos_spade_q0d49_ub[ii]=MaSMeNoS_diag_upper(llmat_i_diag,eigvalsF,ρ_i, drho_i_diag)\n",
    "    menos_spade_q0d49_lb[ii]=MaSMeNoS_diag_lower(llmat_i_diag,eigvalsF,ρ_i, drho_i_diag)\n",
    "    menos_spade_q0d49[ii]=MaSMeNoS_SDP_diag(llmat_i_diag,eigvalsF,ρ_i, drho_i_diag)"
   ]
  },
  {
   "cell_type": "code",
   "execution_count": 39,
   "id": "b7769e6c-3345-4e7e-b520-ca1280362998",
   "metadata": {},
   "outputs": [],
   "source": [
    "qval = 0.250\n",
    "\n",
    "menos_spade_q0d25 = np.zeros_like(svals)\n",
    "menos_spade_q0d25_ub = np.zeros_like(svals)\n",
    "menos_spade_q0d25_lb = np.zeros_like(svals)\n",
    "\n",
    "\n",
    "r_spade_q0d25 = np.zeros_like(svals)\n",
    "r_spade_nuisance_q0d25 = np.zeros_like(svals)\n",
    "\n",
    "for ii, ss in enumerate(svals):\n",
    "    ( p_i , llmat_i ) = prob_scores_spade(ss,s0val,qval,x0func(ss,s0val,qval))\n",
    "    ( ρ_i , drho_i ) = rho_drho_spade(ss,s0val,qval)\n",
    "\n",
    "    QFIval_i = QFI_SLD(ρ_i,drho_i)\n",
    "    Fval_i = FImat(p_i,llmat_i)\n",
    "    \n",
    "    r_spade_q0d25[ii]= np.trace( np.linalg.inv(Fval_i)) / np.trace( np.linalg.inv(QFIval_i))\n",
    "\n",
    "    r_spade_nuisance_q0d25[ii]= np.linalg.inv(Fval_i)[0,0] / np.linalg.inv(QFIval_i)[0,0]\n",
    "\n",
    "    eigvalsF, eigvecF = np.linalg.eig(Fval_i)\n",
    "    \n",
    "    llmat_i_diag = np.zeros_like(llmat_i)\n",
    "    for i in range(3):\n",
    "        for j in range(3):\n",
    "            llmat_i_diag[i] += eigvecF[j,i]*llmat_i[j]\n",
    "\n",
    "    drho_i_diag = np.zeros_like(drho_i)\n",
    "    for i in range(3):\n",
    "        for j in range(3):\n",
    "            drho_i_diag[i] += eigvecF[j,i]*drho_i[j]\n",
    "\n",
    "    menos_spade_q0d25_ub[ii]=MaSMeNoS_diag_upper(llmat_i_diag,eigvalsF,ρ_i, drho_i_diag)\n",
    "    menos_spade_q0d25_lb[ii]=MaSMeNoS_diag_lower(llmat_i_diag,eigvalsF,ρ_i, drho_i_diag)\n",
    "    menos_spade_q0d25[ii]=MaSMeNoS_SDP_diag(llmat_i_diag,eigvalsF,ρ_i, drho_i_diag)"
   ]
  },
  {
   "cell_type": "code",
   "execution_count": 40,
   "id": "05c88b51-e95f-43d2-8d68-18c3d27ec8c4",
   "metadata": {},
   "outputs": [],
   "source": [
    "qval = 0.125\n",
    "menos_spade_q0d125 = np.zeros_like(svals)\n",
    "menos_spade_q0d125_ub = np.zeros_like(svals)\n",
    "menos_spade_q0d125_lb = np.zeros_like(svals)\n",
    "\n",
    "r_spade_q0d125 = np.zeros_like(svals)\n",
    "r_spade_nuisance_q0d125 = np.zeros_like(svals)\n",
    "\n",
    "for ii, ss in enumerate(svals):\n",
    "    # print(ss)\n",
    "    ( p_i , llmat_i ) = prob_scores_spade(ss,s0val,qval,x0func(ss,s0val,qval))\n",
    "    ( ρ_i , drho_i ) = rho_drho_spade(ss,s0val,qval)\n",
    "    \n",
    "    QFIval_i = QFI_SLD(ρ_i,drho_i)\n",
    "    Fval_i = FImat(p_i,llmat_i)\n",
    "    \n",
    "    r_spade_q0d125[ii]= np.trace( np.linalg.inv(Fval_i)) / np.trace( np.linalg.inv(QFIval_i))\n",
    "    r_spade_nuisance_q0d125[ii]=np.linalg.inv(Fval_i)[0,0] / np.linalg.inv(QFIval_i)[0,0]\n",
    "\n",
    "    eigvalsF, eigvecF = np.linalg.eig(Fval_i)\n",
    "    \n",
    "    llmat_i_diag = np.zeros_like(llmat_i)\n",
    "    for i in range(3):\n",
    "        for j in range(3):\n",
    "            llmat_i_diag[i] += eigvecF[j,i]*llmat_i[j]\n",
    "\n",
    "    drho_i_diag = np.zeros_like(drho_i)\n",
    "    for i in range(3):\n",
    "        for j in range(3):\n",
    "            drho_i_diag[i] += eigvecF[j,i]*drho_i[j]\n",
    "\n",
    "    menos_spade_q0d125_ub[ii]=MaSMeNoS_diag_upper(llmat_i_diag,eigvalsF,ρ_i, drho_i_diag)\n",
    "    menos_spade_q0d125_lb[ii]=MaSMeNoS_diag_lower(llmat_i_diag,eigvalsF,ρ_i, drho_i_diag)\n",
    "    menos_spade_q0d125[ii]=MaSMeNoS_SDP_diag(llmat_i_diag,eigvalsF,ρ_i, drho_i_diag)"
   ]
  },
  {
   "cell_type": "code",
   "execution_count": 47,
   "id": "8b340e54-b4fe-4186-9201-5c6b62616bca",
   "metadata": {},
   "outputs": [
    {
     "data": {
      "image/png": "[encoded data removed]",
      "text/plain": [
       "<Figure size 337.5x337.5 with 3 Axes>"
      ]
     },
     "metadata": {},
     "output_type": "display_data"
    }
   ],
   "source": [
    "cmap_reds = mpl.colormaps['Reds']\n",
    "cmap_blues = mpl.colormaps['Blues']\n",
    "cmap_greens = mpl.colormaps['Greens']\n",
    "redplot=cmap_reds(.6)\n",
    "blueplot=cmap_blues(.7)\n",
    "greenplot=cmap_greens(.55)\n",
    "\n",
    "fig2 = plt.figure(figsize=(3.375,3.375),layout='constrained')\n",
    "\n",
    "axs2 = fig2.subplots(3,1,sharex=True,height_ratios=[2,1,1])\n",
    "\n",
    "axs2[0].semilogy(svals,menos_spade_q0d49,label=\"q=0.49\",color = redplot)\n",
    "axs2[0].semilogy(svals,menos_spade_q0d49_ub,color = redplot,linestyle=':')\n",
    "\n",
    "axs2[0].semilogy(svals,menos_spade_q0d25,label=\"q=0.25\",color = blueplot)\n",
    "axs2[0].semilogy(svals,menos_spade_q0d25_ub,color = blueplot,linestyle=':')\n",
    "\n",
    "axs2[0].semilogy(svals,menos_spade_q0d125,label=\"q=0.125\",color = greenplot)\n",
    "axs2[0].semilogy(svals,menos_spade_q0d125_ub,color = greenplot,linestyle=':')\n",
    "\n",
    "axs2[0].legend()\n",
    "axs2[0].set_ylabel(\"$\\Sigma[M]$\")\n",
    "\n",
    "axs2[1].plot(svals,r_spade_q0d49,label=\"q=0.125\",color = redplot)\n",
    "axs2[1].plot(svals,r_spade_q0d25,label=\"q=0.125\",color = blueplot)\n",
    "axs2[1].plot(svals,r_spade_q0d125,label=\"q=0.125\",color = greenplot)\n",
    "\n",
    "axs2[1].set_ylabel(\"$r_{\\mathsf{multi}}[M]$\")\n",
    "\n",
    "axs2[2].plot(svals,r_spade_nuisance_q0d49,label=\"q=0.125\",color = redplot)\n",
    "axs2[2].plot(svals,r_spade_nuisance_q0d25,label=\"q=0.125\",color = blueplot)\n",
    "axs2[2].plot(svals,r_spade_nuisance_q0d125,label=\"q=0.125\",color = greenplot)\n",
    "\n",
    "axs2[2].set_ylabel(\"$r_{s}[M]$\")\n",
    "\n",
    "axs2[2].set_xlabel(\"$s$\")\n",
    "\n",
    "axs2[0].text(0.05, 0.95, '(a)', transform=axs2[0].transAxes, fontsize='medium',va='top')\n",
    "axs2[1].text(0.05, 0.95, '(b)', transform=axs2[1].transAxes,fontsize='medium', va='top')\n",
    "axs2[2].text(0.05, 0.95, '(c)', transform=axs2[2].transAxes,fontsize='medium', va='top');\n",
    "\n",
    "# fig2.savefig(\"incoherent_plot.pdf\")"
   ]
  },
  {
   "cell_type": "code",
   "execution_count": 51,
   "id": "b34b3ab7",
   "metadata": {},
   "outputs": [
    {
     "name": "stdout",
     "output_type": "stream",
     "text": [
      "\n",
      "QuTiP: Quantum Toolbox in Python\n",
      "================================\n",
      "Copyright (c) QuTiP team 2011 and later.\n",
      "Current admin team: Alexander Pitchford, Nathan Shammah, Shahnawaz Ahmed, Neill Lambert, Eric Giguère, Boxi Li, Jake Lishman, Simon Cross and Asier Galicia.\n",
      "Board members: Daniel Burgarth, Robert Johansson, Anton F. Kockum, Franco Nori and Will Zeng.\n",
      "Original developers: R. J. Johansson & P. D. Nation.\n",
      "Previous lead developers: Chris Granade & A. Grimsmo.\n",
      "Currently developed through wide collaboration. See https://github.com/qutip for details.\n",
      "\n",
      "QuTiP Version:      4.7.5\n",
      "Numpy Version:      1.26.4\n",
      "Scipy Version:      1.12.0\n",
      "Cython Version:     None\n",
      "Matplotlib Version: 3.7.3\n",
      "Python Version:     3.11.8\n",
      "Number of CPUs:     12\n",
      "BLAS Info:          Generic\n",
      "OPENMP Installed:   False\n",
      "INTEL MKL Ext:      False\n",
      "Platform Info:      Darwin (arm64)\n",
      "Installation path:  /opt/homebrew/Caskroom/miniforge/base/envs/quantum/lib/python3.11/site-packages/qutip\n",
      "================================================================================\n",
      "Please cite QuTiP in your publication.\n",
      "================================================================================\n",
      "For your convenience a bibtex reference can be easily generated using `qutip.cite()`\n"
     ]
    }
   ],
   "source": [
    "qutip.about()"
   ]
  },
  {
   "cell_type": "code",
   "execution_count": null,
   "id": "832657c0",
   "metadata": {},
   "outputs": [],
   "source": []
  }
 ],
 "metadata": {
  "kernelspec": {
   "display_name": "quantum",
   "language": "python",
   "name": "python3"
  },
  "language_info": {
   "codemirror_mode": {
    "name": "ipython",
    "version": 3
   },
   "file_extension": ".py",
   "mimetype": "text/x-python",
   "name": "python",
   "nbconvert_exporter": "python",
   "pygments_lexer": "ipython3",
   "version": "3.11.8"
  }
 },
 "nbformat": 4,
 "nbformat_minor": 5
}
